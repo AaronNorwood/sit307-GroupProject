{
 "cells": [
  {
   "cell_type": "markdown",
   "metadata": {},
   "source": [
    "# Imported libraries"
   ]
  },
  {
   "cell_type": "code",
   "execution_count": 271,
   "metadata": {},
   "outputs": [],
   "source": [
    "import matplotlib.pyplot as plt\n",
    "import numpy as np\n",
    "import pandas as pd\n",
    "import seaborn as sns\n",
    "import math\n",
    "from scipy import stats\n",
    "%matplotlib inline"
   ]
  },
  {
   "cell_type": "markdown",
   "metadata": {},
   "source": [
    "<h3> Read in the data, store if dataframe"
   ]
  },
  {
   "cell_type": "code",
   "execution_count": 272,
   "metadata": {},
   "outputs": [],
   "source": [
    "df = pd.read_csv('./data/healthcare-dataset-stroke-data.csv')"
   ]
  },
  {
   "cell_type": "markdown",
   "metadata": {
    "tags": []
   },
   "source": [
    "# Tidying up the data\n",
    "\n",
    "Implementing consistent capitalization and replacing underscores  spaces with hyphens in the data."
   ]
  },
  {
   "cell_type": "code",
   "execution_count": 273,
   "metadata": {},
   "outputs": [],
   "source": [
    "##convert gender to lowercase\n",
    "df['gender'] = df['gender'].apply(lambda x: x.lower())\n",
    "\n",
    "##convert work_type to lowercase ensure consistent spacing \n",
    "df['work_type'] = df['work_type'].apply(lambda x: x.lower().replace('_','-'))\n",
    "\n",
    "##convert residence_type to lowercase\n",
    "df.rename(columns={'Residence_type':'residence_type'}, inplace=True)\n",
    "df['residence_type'] = df['residence_type'].apply(lambda x: x.lower())\n",
    "\n",
    "##convert smoking_status to lowercase ensure consistent spacing \n",
    "df['smoking_status'] = df['smoking_status'].apply(lambda x: x.lower().replace(' ', '-'))"
   ]
  },
  {
   "cell_type": "markdown",
   "metadata": {},
   "source": [
    "<h4> Indexes of the outliers with a bmi above 60 for verification purposes"
   ]
  },
  {
   "cell_type": "code",
   "execution_count": 274,
   "metadata": {},
   "outputs": [
    {
     "name": "stdout",
     "output_type": "stream",
     "text": [
      "60.9,64.8,60.2,71.9,78.0,66.8,97.6,63.3,61.2,61.6,64.4,92.0,60.9,"
     ]
    }
   ],
   "source": [
    "indexes = [270, 358, 466, 544, 928, 1559, 2128, 2764, 2840, 3825, 4188, 4209, 4838]\n",
    "for index, i in enumerate(df['bmi']):\n",
    "    if index in indexes:\n",
    "        print(i, end=',')"
   ]
  },
  {
   "cell_type": "markdown",
   "metadata": {},
   "source": [
    "<h4> Cap the outliers at a maximum bmi of 60"
   ]
  },
  {
   "cell_type": "code",
   "execution_count": 275,
   "metadata": {},
   "outputs": [],
   "source": [
    "df['bmi'] = df['bmi'].apply(lambda bmi_value: bmi_value if 12 < bmi_value < 60 else np.nan)"
   ]
  },
  {
   "cell_type": "markdown",
   "metadata": {},
   "source": [
    "<h4>Preliminary work for binning"
   ]
  },
  {
   "cell_type": "code",
   "execution_count": 276,
   "metadata": {},
   "outputs": [
    {
     "name": "stdout",
     "output_type": "stream",
     "text": [
      "The max value in age is : 82.0\n",
      "Total number of nulls in age is: 0\n",
      "Total number of NAs in age is : 0\n"
     ]
    }
   ],
   "source": [
    "##max age of 82, max bin get be set accordingly \n",
    "print(\"The max value in age is : \" + str(df['age'].max()))\n",
    "print(\"Total number of nulls in age is: \" + str(df['age'].isnull().sum())) ##check for null\n",
    "print(\"Total number of NAs in age is : \" + str(df['age'].isna().sum())) ##check for NAs"
   ]
  },
  {
   "cell_type": "markdown",
   "metadata": {},
   "source": [
    "<h2>Unknown_smoking status breakdown"
   ]
  },
  {
   "cell_type": "code",
   "execution_count": 277,
   "metadata": {},
   "outputs": [
    {
     "name": "stdout",
     "output_type": "stream",
     "text": [
      "\n",
      "The percent of entries with an unknown smoking status is: 30.2153% or 1544 entries\n"
     ]
    }
   ],
   "source": [
    "##loop to find the number of unknown smoking entries\n",
    "unknown_count = 0\n",
    "##store the indexes of the unknown smoking status entries in case it's needed later\n",
    "unknown_indexes = []\n",
    "for index, i in enumerate(df['smoking_status']):\n",
    "    if(i.lower() == 'unknown'):\n",
    "        #get index and value \n",
    "        #print(index, i)\n",
    "        unknown_indexes.append(index)\n",
    "        unknown_count+=1\n",
    "##get percentage of unknown\n",
    "unknown_percent = unknown_count/len(df) * 100\n",
    "unknown_percent = round(unknown_percent,4)\n",
    "print(\"\\nThe percent of entries with an unknown smoking status is: \" + str(unknown_percent) + \"% or \" +str(unknown_count) + \" entries\")"
   ]
  },
  {
   "cell_type": "markdown",
   "metadata": {},
   "source": [
    "<h2>Checking for non-binary values</h2>\n",
    "<P>Checked in heart_disease, hypertension, ever_married and stroke. Also converts ever_married to 0/1 instead of yes/no<P>"
   ]
  },
  {
   "cell_type": "code",
   "execution_count": 278,
   "metadata": {},
   "outputs": [
    {
     "name": "stdout",
     "output_type": "stream",
     "text": [
      "No non-binary values found in heart_disease\n",
      "No non-binary values found in hypertension\n",
      "No non-binary values found in ever_married\n",
      "No non-binary values found in stroke\n"
     ]
    }
   ],
   "source": [
    "##check for any non-binary values in heart_disease\n",
    "non_bin_heart_count = 0\n",
    "for val in df['heart_disease']:\n",
    "    if(val != 1 and val != 0):\n",
    "        print(val)\n",
    "if(non_bin_heart_count == 0):\n",
    "    print(\"No non-binary values found in heart_disease\")\n",
    "\n",
    "##check for any non-binary values in hypertension\n",
    "non_bin_hypt_count = 0\n",
    "for val in df['hypertension']:\n",
    "    if(val != 1 and val != 0):\n",
    "        print(val)\n",
    "if(non_bin_hypt_count == 0):\n",
    "    print(\"No non-binary values found in hypertension\")\n",
    "    \n",
    "##converts ever_married to 0/1 if not already done \n",
    "if(isinstance(df['ever_married'][0],str)):\n",
    "    df['ever_married'] = df['ever_married'].str.lower().map({'yes': 1, 'no': 0})\n",
    "\n",
    "##checks for non-binary values in ever_married\n",
    "non_bin_married_count = 0\n",
    "for val in df['ever_married']:\n",
    "    if(val != 1 and val != 0):\n",
    "        print(val)\n",
    "if(non_bin_married_count == 0):\n",
    "    print(\"No non-binary values found in ever_married\")\n",
    "    \n",
    "##check for any non-binary values in stroke\n",
    "non_bin_stroke_count = 0\n",
    "for val in df['stroke']:\n",
    "    if(val != 1 and val != 0):\n",
    "        print(val)\n",
    "if(non_bin_stroke_count == 0):\n",
    "    print(\"No non-binary values found in stroke\")"
   ]
  },
  {
   "cell_type": "markdown",
   "metadata": {},
   "source": [
    "# Impute missing BMI values\n",
    "<P>Replace missing BMI values with the average BMI found in rows with the same age and gender<P>"
   ]
  },
  {
   "cell_type": "code",
   "execution_count": 279,
   "metadata": {},
   "outputs": [
    {
     "data": {
      "text/plain": [
       "id                     0\n",
       "gender                 0\n",
       "age                    0\n",
       "hypertension           0\n",
       "heart_disease          0\n",
       "ever_married           0\n",
       "work_type              0\n",
       "residence_type         0\n",
       "avg_glucose_level      0\n",
       "bmi                  218\n",
       "smoking_status         0\n",
       "stroke                 0\n",
       "dtype: int64"
      ]
     },
     "execution_count": 279,
     "metadata": {},
     "output_type": "execute_result"
    }
   ],
   "source": [
    "##get number of nulls in df\n",
    "df.isnull().sum()"
   ]
  },
  {
   "cell_type": "code",
   "execution_count": 280,
   "metadata": {},
   "outputs": [],
   "source": [
    "df['bmi_raw'] = df['bmi']\n",
    "\n",
    "df['age'] = df['age'].apply(lambda x : round(x))\n",
    "\n",
    "m_df = df[df['gender'] == 'male']\n",
    "f_df = df[df['gender'] == 'female']\n",
    "\n",
    "m_bmi_avg = m_df.groupby('age')['bmi'].mean()\n",
    "f_bmi_avg = f_df.groupby('age')['bmi'].mean()\n",
    "##round to one to fit with other bmi values\n",
    "m_bmi_avg = round(m_bmi_avg,1)\n",
    "f_bmi_avg = round(f_bmi_avg,1)\n",
    "\n",
    "missing_vals = df[df.isnull().any(axis = 1)]\n",
    "\n",
    "for index, row in missing_vals.iterrows():\n",
    "    if row['gender'] == 'male':\n",
    "        df.loc[index,['bmi']] = m_bmi_avg[row['age']]\n",
    "    else:\n",
    "        df.loc[index,['bmi']] = f_bmi_avg[row['age']]\n"
   ]
  },
  {
   "cell_type": "code",
   "execution_count": 281,
   "metadata": {},
   "outputs": [
    {
     "data": {
      "text/plain": [
       "id                     0\n",
       "gender                 0\n",
       "age                    0\n",
       "hypertension           0\n",
       "heart_disease          0\n",
       "ever_married           0\n",
       "work_type              0\n",
       "residence_type         0\n",
       "avg_glucose_level      0\n",
       "bmi                    0\n",
       "smoking_status         0\n",
       "stroke                 0\n",
       "bmi_raw              218\n",
       "dtype: int64"
      ]
     },
     "execution_count": 281,
     "metadata": {},
     "output_type": "execute_result"
    }
   ],
   "source": [
    "df.isnull().sum()"
   ]
  },
  {
   "cell_type": "markdown",
   "metadata": {},
   "source": [
    "<h2>Example of imputed values using the outliers above 60</h2>"
   ]
  },
  {
   "cell_type": "code",
   "execution_count": 282,
   "metadata": {},
   "outputs": [
    {
     "name": "stdout",
     "output_type": "stream",
     "text": [
      "32.8,33.5,29.1,32.5,27.9,32.3,28.0,26.2,31.5,31.5,27.9,31.8,31.0,"
     ]
    }
   ],
   "source": [
    "indexes = [270, 358, 466, 544, 928, 1559, 2128, 2764, 2840, 3825, 4188, 4209, 4838]\n",
    "for index, i in enumerate(df['bmi']):\n",
    "    if index in indexes:\n",
    "        print(i, end=',')"
   ]
  },
  {
   "cell_type": "markdown",
   "metadata": {},
   "source": [
    "<h2> Equal-width binning implementation</h2>\n",
    "    <P>Uncomment if you want to use, will not work if equal-size binning has already been implemented\n",
    "    if you've already applied equal-size, then read in the data-frame again<P>"
   ]
  },
  {
   "cell_type": "code",
   "execution_count": 283,
   "metadata": {},
   "outputs": [],
   "source": [
    "##define labels and bins using equal width binning\n",
    "#bins = [0,10,20,30,40,50,60,70,80,90]\n",
    "#labels=['0-10','10-20','20-30','30-40','40-50','50-60','60-70','70-80','80-90']\n",
    "##replace all age values with their corresponding bin\n",
    "#df['age_bin'] = pd.cut(df['age'], bins=bins,labels=labels)\n",
    "\n",
    "#print(\"total entires in each bin is:\\n\", df['age_bin'].value_counts())\n",
    "#print(\"\\npercentage in each bin is:\\n\", df['age_bin'].value_counts()/len(df)*100)"
   ]
  },
  {
   "cell_type": "markdown",
   "metadata": {},
   "source": [
    "<h2> Equal-size binning implementation</h2>\n"
   ]
  },
  {
   "cell_type": "code",
   "execution_count": 284,
   "metadata": {},
   "outputs": [
    {
     "name": "stdout",
     "output_type": "stream",
     "text": [
      "total entires in each bin is:\n",
      " (57.0, 65.0]    559\n",
      "(20.0, 30.0]    545\n",
      "(-0.1, 11.0]    543\n",
      "(30.0, 38.0]    529\n",
      "(38.0, 45.0]    519\n",
      "(51.0, 57.0]    517\n",
      "(65.0, 75.0]    500\n",
      "(11.0, 20.0]    482\n",
      "(75.0, 82.0]    465\n",
      "(45.0, 51.0]    451\n",
      "Name: age_bin, dtype: int64\n",
      "\n",
      "percentage in each bin is:\n",
      " (57.0, 65.0]    10.939335\n",
      "(20.0, 30.0]    10.665362\n",
      "(-0.1, 11.0]    10.626223\n",
      "(30.0, 38.0]    10.352250\n",
      "(38.0, 45.0]    10.156556\n",
      "(51.0, 57.0]    10.117417\n",
      "(65.0, 75.0]     9.784736\n",
      "(11.0, 20.0]     9.432485\n",
      "(75.0, 82.0]     9.099804\n",
      "(45.0, 51.0]     8.825832\n",
      "Name: age_bin, dtype: float64\n"
     ]
    }
   ],
   "source": [
    "df['age_bin'] = pd.qcut(df['age'], q = 10, precision=1)\n",
    "print(\"total entires in each bin is:\\n\", df['age_bin'].value_counts())\n",
    "print(\"\\npercentage in each bin is:\\n\", df['age_bin'].value_counts()/len(df)*100)"
   ]
  },
  {
   "cell_type": "markdown",
   "metadata": {},
   "source": [
    "<h2>Equal-size binning for average-glucose level"
   ]
  },
  {
   "cell_type": "code",
   "execution_count": 285,
   "metadata": {},
   "outputs": [
    {
     "name": "stdout",
     "output_type": "stream",
     "text": [
      "total entires in each bin is:\n",
      " (108.5, 124.2]    512\n",
      "(80.0, 85.6]      512\n",
      "(65.8, 73.8]      512\n",
      "(192.2, 271.7]    511\n",
      "(98.9, 108.5]     511\n",
      "(91.9, 98.9]      511\n",
      "(55.0, 65.8]      511\n",
      "(124.2, 192.2]    510\n",
      "(85.6, 91.9]      510\n",
      "(73.8, 80.0]      510\n",
      "Name: avg_glucose_level_bin, dtype: int64\n",
      "\n",
      "percentage in each bin is:\n",
      " (108.5, 124.2]    10.019569\n",
      "(80.0, 85.6]      10.019569\n",
      "(65.8, 73.8]      10.019569\n",
      "(192.2, 271.7]    10.000000\n",
      "(98.9, 108.5]     10.000000\n",
      "(91.9, 98.9]      10.000000\n",
      "(55.0, 65.8]      10.000000\n",
      "(124.2, 192.2]     9.980431\n",
      "(85.6, 91.9]       9.980431\n",
      "(73.8, 80.0]       9.980431\n",
      "Name: avg_glucose_level_bin, dtype: float64\n"
     ]
    }
   ],
   "source": [
    "##create 10 bins, print values for review\n",
    "df['avg_glucose_level_bin'] = pd.qcut(df['avg_glucose_level'], q=10, precision=1)\n",
    "print(\"total entires in each bin is:\\n\", df['avg_glucose_level_bin'].value_counts())\n",
    "print(\"\\npercentage in each bin is:\\n\", df['avg_glucose_level_bin'].value_counts()/len(df)*100)"
   ]
  },
  {
   "cell_type": "markdown",
   "metadata": {},
   "source": [
    "<h2>Equal-size binning for bmi"
   ]
  },
  {
   "cell_type": "code",
   "execution_count": 286,
   "metadata": {},
   "outputs": [
    {
     "name": "stdout",
     "output_type": "stream",
     "text": [
      "total entires in each bin is:\n",
      " (12.200000000000001, 19.8]    522\n",
      "(28.2, 29.9]                  520\n",
      "(24.7, 26.6]                  519\n",
      "(34.2, 38.6]                  516\n",
      "(29.9, 31.8]                  514\n",
      "(22.6, 24.7]                  510\n",
      "(38.6, 59.7]                  506\n",
      "(26.6, 28.2]                  503\n",
      "(19.8, 22.6]                  503\n",
      "(31.8, 34.2]                  497\n",
      "Name: bmi_bin, dtype: int64\n",
      "\n",
      "percentage in each bin is:\n",
      " (12.200000000000001, 19.8]    10.215264\n",
      "(28.2, 29.9]                  10.176125\n",
      "(24.7, 26.6]                  10.156556\n",
      "(34.2, 38.6]                  10.097847\n",
      "(29.9, 31.8]                  10.058708\n",
      "(22.6, 24.7]                   9.980431\n",
      "(38.6, 59.7]                   9.902153\n",
      "(26.6, 28.2]                   9.843444\n",
      "(19.8, 22.6]                   9.843444\n",
      "(31.8, 34.2]                   9.726027\n",
      "Name: bmi_bin, dtype: float64\n"
     ]
    }
   ],
   "source": [
    "df['bmi_bin'] = pd.qcut(df['bmi'], q=10, precision=1)\n",
    "print(\"total entires in each bin is:\\n\", df['bmi_bin'].value_counts())\n",
    "print(\"\\npercentage in each bin is:\\n\", df['bmi_bin'].value_counts()/len(df)*100)"
   ]
  },
  {
   "cell_type": "markdown",
   "metadata": {},
   "source": [
    "<h1>Some information about outliers</h1>\n",
    "<P>Any outliers after binning the ages will be found only in BMI (the most extreme outliers have already been dealt with) and avg_glucose_level. Both columns have a large amount of outliers, the exact number and percentages of which can be seen below. We have not yet done anything with these outliers, simply identified them<P>"
   ]
  },
  {
   "cell_type": "markdown",
   "metadata": {},
   "source": [
    "<h2>Graphing the outliers"
   ]
  },
  {
   "cell_type": "code",
   "execution_count": 287,
   "metadata": {},
   "outputs": [
    {
     "data": {
      "text/plain": [
       "<AxesSubplot:xlabel='bmi'>"
      ]
     },
     "execution_count": 287,
     "metadata": {},
     "output_type": "execute_result"
    },
    {
     "data": {
      "image/png": "[encoded data removed]",
      "text/plain": [
       "<Figure size 432x288 with 1 Axes>"
      ]
     },
     "metadata": {
      "needs_background": "light"
     },
     "output_type": "display_data"
    }
   ],
   "source": [
    "sns.boxplot(x=df['bmi'])"
   ]
  },
  {
   "cell_type": "code",
   "execution_count": 288,
   "metadata": {},
   "outputs": [
    {
     "data": {
      "text/plain": [
       "<AxesSubplot:xlabel='avg_glucose_level'>"
      ]
     },
     "execution_count": 288,
     "metadata": {},
     "output_type": "execute_result"
    },
    {
     "data": {
      "image/png": "[encoded data removed]",
      "text/plain": [
       "<Figure size 432x288 with 1 Axes>"
      ]
     },
     "metadata": {
      "needs_background": "light"
     },
     "output_type": "display_data"
    }
   ],
   "source": [
    "sns.boxplot(x=df['avg_glucose_level'])"
   ]
  },
  {
   "cell_type": "markdown",
   "metadata": {},
   "source": [
    "<h2>Z-scores to find outliers"
   ]
  },
  {
   "cell_type": "markdown",
   "metadata": {},
   "source": [
    "<h4>Add in a z-score column to the df"
   ]
  },
  {
   "cell_type": "code",
   "execution_count": 289,
   "metadata": {},
   "outputs": [
    {
     "name": "stdout",
     "output_type": "stream",
     "text": [
      "number of outliers found with z-score for bmi is : 51 which is 1.0%\n",
      "number of outliers found with z-score for glucose is : 49 which is 0.96%\n"
     ]
    }
   ],
   "source": [
    "##adds in z-score column to df for bmi and glucose level\n",
    "cols = ['bmi','avg_glucose_level']\n",
    "for col in cols:\n",
    "    col_zscore = col + '_zscore'\n",
    "    df[col_zscore] = (df[col] - df[col].mean())/df[col].std(ddof=0)\n",
    "    \n",
    "df.head()\n",
    "##count number of outliers\n",
    "\n",
    "\n",
    "outliers_bmi_z = np.where((df['bmi_zscore']) >=3)\n",
    "outliers_glu_z = np.where((df['avg_glucose_level_zscore']) >=3)\n",
    "\n",
    "outliers_bmi_z = 0\n",
    "for i in df['bmi_zscore']:\n",
    "    if(i >=3):\n",
    "        outliers_bmi_z += 1\n",
    "\n",
    "outliers_glu_z = 0\n",
    "for i in df['avg_glucose_level_zscore']:\n",
    "    if(i >=3):\n",
    "        outliers_glu_z += 1\n",
    "        \n",
    "##get outliers as percentage\n",
    "z_bmi_percent = outliers_bmi_z/len(df)*100\n",
    "z_glu_percent = outliers_glu_z/len(df)*100\n",
    "\n",
    "z_bmi_percent = round(z_bmi_percent,2)\n",
    "z_glu_percent = round(z_glu_percent,2)\n",
    "\n",
    "print(\"number of outliers found with z-score for bmi is : \"+ str(outliers_bmi_z) + \" which is \" +str(z_bmi_percent)+\"%\")\n",
    "print(\"number of outliers found with z-score for glucose is : \"+ str(outliers_glu_z) + \" which is \" +str(z_glu_percent)+\"%\")\n",
    "\n",
    "##Uncomment below to get indexes of outliers if needed\n",
    "#print(\"Indexes where z-score is greater than 3 for bmi below:\\n\")\n",
    "#print(np.where((df['bmi_zscore']) >=3))\n",
    "\n",
    "#print(\"\\n\\nIndexes where z-score is greater than 3 for glucose below:\\n\")\n",
    "#print(np.where((df['avg_glucose_level_zscore']) >=3))"
   ]
  },
  {
   "cell_type": "markdown",
   "metadata": {},
   "source": [
    "<h2>IRQ to find outliers"
   ]
  },
  {
   "cell_type": "markdown",
   "metadata": {},
   "source": [
    "<h4>Avg_glucose_level"
   ]
  },
  {
   "cell_type": "code",
   "execution_count": 290,
   "metadata": {},
   "outputs": [
    {
     "name": "stdout",
     "output_type": "stream",
     "text": [
      "number of outliers found with iqr for glucose is : 627 which is 12.27%\n"
     ]
    }
   ],
   "source": [
    "##checking for outliers in avg_glucose_level using iqr\n",
    "q1_glu = df['avg_glucose_level'].quantile(0.25)\n",
    "q3_glu = df['avg_glucose_level'].quantile(0.75)\n",
    "iqr_glu = q3_glu-q1_glu\n",
    "outliers_glu = (df['avg_glucose_level'] < (q1_glu - 1.5 * iqr_glu)) |(df['avg_glucose_level'] > (q3_glu + 1.5 * iqr_glu))\n",
    "outliers_glu_count = 0\n",
    "for i in outliers_glu:\n",
    "    if(i != False):\n",
    "        outliers_glu_count += 1\n",
    "        \n",
    "iqr_glu_percent = outliers_glu_count/len(df)*100\n",
    "iqr_glu_percent = round(iqr_glu_percent,2)         \n",
    "print(\"number of outliers found with iqr for glucose is : \"+ str(outliers_glu_count) + \" which is \" +str(iqr_glu_percent)+\"%\")\n",
    "\n",
    "##uncomment to get the indexes of the outliers if needed\n",
    "#print(\"\\nIndexes where outliers were detected: \")\n",
    "#print(np.where(outliers_glu != False))"
   ]
  },
  {
   "cell_type": "markdown",
   "metadata": {},
   "source": [
    "<h4>BMI"
   ]
  },
  {
   "cell_type": "code",
   "execution_count": 291,
   "metadata": {},
   "outputs": [
    {
     "name": "stdout",
     "output_type": "stream",
     "text": [
      "number of outliers found with iqr for bmi is : 110 which is 2.15%\n"
     ]
    }
   ],
   "source": [
    "##checking for outliers in bmi using iqr\n",
    "q1_bmi = df['bmi'].quantile(0.25)\n",
    "q3_bmi = df['bmi'].quantile(0.75)\n",
    "iqr_bmi = q3_bmi-q1_bmi\n",
    "outliers_bmi = (df['bmi'] < (q1_bmi - 1.5 * iqr_bmi)) |(df['bmi'] > (q3_bmi + 1.5 * iqr_bmi))\n",
    "\n",
    "##count number of outliers\n",
    "outliers_bmi_count = 0\n",
    "for i in outliers_bmi:\n",
    "    if(i != False):\n",
    "        outliers_bmi_count += 1\n",
    "        \n",
    "##get outliers as percentage       \n",
    "iqr_bmi_percent = outliers_bmi_count/len(df)*100\n",
    "iqr_bmi_percent = round(iqr_bmi_percent,2) \n",
    "print(\"number of outliers found with iqr for bmi is : \"+ str(outliers_bmi_count) + \" which is \" +str(iqr_bmi_percent)+\"%\")\n",
    "\n",
    "##uncomment to get the indexes of the outliers if needed\n",
    "#print(\"\\nIndexes where outliers were detected: \")\n",
    "#print(np.where(outliers_bmi != False))"
   ]
  },
  {
   "cell_type": "code",
   "execution_count": 292,
   "metadata": {},
   "outputs": [
    {
     "data": {
      "text/html": [
       "<div>\n",
       "<style scoped>\n",
       "    .dataframe tbody tr th:only-of-type {\n",
       "        vertical-align: middle;\n",
       "    }\n",
       "\n",
       "    .dataframe tbody tr th {\n",
       "        vertical-align: top;\n",
       "    }\n",
       "\n",
       "    .dataframe thead th {\n",
       "        text-align: right;\n",
       "    }\n",
       "</style>\n",
       "<table border=\"1\" class=\"dataframe\">\n",
       "  <thead>\n",
       "    <tr style=\"text-align: right;\">\n",
       "      <th></th>\n",
       "      <th>id</th>\n",
       "      <th>age</th>\n",
       "      <th>hypertension</th>\n",
       "      <th>heart_disease</th>\n",
       "      <th>ever_married</th>\n",
       "      <th>avg_glucose_level</th>\n",
       "      <th>bmi</th>\n",
       "      <th>stroke</th>\n",
       "      <th>bmi_raw</th>\n",
       "      <th>bmi_zscore</th>\n",
       "      <th>avg_glucose_level_zscore</th>\n",
       "    </tr>\n",
       "  </thead>\n",
       "  <tbody>\n",
       "    <tr>\n",
       "      <th>count</th>\n",
       "      <td>5110.000000</td>\n",
       "      <td>5110.000000</td>\n",
       "      <td>5110.000000</td>\n",
       "      <td>5110.000000</td>\n",
       "      <td>5110.000000</td>\n",
       "      <td>5110.000000</td>\n",
       "      <td>5110.000000</td>\n",
       "      <td>5110.000000</td>\n",
       "      <td>4892.000000</td>\n",
       "      <td>5.110000e+03</td>\n",
       "      <td>5.110000e+03</td>\n",
       "    </tr>\n",
       "    <tr>\n",
       "      <th>mean</th>\n",
       "      <td>36517.829354</td>\n",
       "      <td>43.226614</td>\n",
       "      <td>0.097456</td>\n",
       "      <td>0.054012</td>\n",
       "      <td>0.656164</td>\n",
       "      <td>106.147677</td>\n",
       "      <td>28.827436</td>\n",
       "      <td>0.048728</td>\n",
       "      <td>28.799714</td>\n",
       "      <td>6.651453e-16</td>\n",
       "      <td>3.603293e-15</td>\n",
       "    </tr>\n",
       "    <tr>\n",
       "      <th>std</th>\n",
       "      <td>21161.721625</td>\n",
       "      <td>22.612731</td>\n",
       "      <td>0.296607</td>\n",
       "      <td>0.226063</td>\n",
       "      <td>0.475034</td>\n",
       "      <td>45.283560</td>\n",
       "      <td>7.416649</td>\n",
       "      <td>0.215320</td>\n",
       "      <td>7.541793</td>\n",
       "      <td>1.000098e+00</td>\n",
       "      <td>1.000098e+00</td>\n",
       "    </tr>\n",
       "    <tr>\n",
       "      <th>min</th>\n",
       "      <td>67.000000</td>\n",
       "      <td>0.000000</td>\n",
       "      <td>0.000000</td>\n",
       "      <td>0.000000</td>\n",
       "      <td>0.000000</td>\n",
       "      <td>55.120000</td>\n",
       "      <td>12.300000</td>\n",
       "      <td>0.000000</td>\n",
       "      <td>12.300000</td>\n",
       "      <td>-2.228642e+00</td>\n",
       "      <td>-1.126958e+00</td>\n",
       "    </tr>\n",
       "    <tr>\n",
       "      <th>25%</th>\n",
       "      <td>17741.250000</td>\n",
       "      <td>25.000000</td>\n",
       "      <td>0.000000</td>\n",
       "      <td>0.000000</td>\n",
       "      <td>0.000000</td>\n",
       "      <td>77.245000</td>\n",
       "      <td>23.700000</td>\n",
       "      <td>0.000000</td>\n",
       "      <td>23.500000</td>\n",
       "      <td>-6.914090e-01</td>\n",
       "      <td>-6.383223e-01</td>\n",
       "    </tr>\n",
       "    <tr>\n",
       "      <th>50%</th>\n",
       "      <td>36932.000000</td>\n",
       "      <td>45.000000</td>\n",
       "      <td>0.000000</td>\n",
       "      <td>0.000000</td>\n",
       "      <td>1.000000</td>\n",
       "      <td>91.885000</td>\n",
       "      <td>28.200000</td>\n",
       "      <td>0.000000</td>\n",
       "      <td>28.000000</td>\n",
       "      <td>-8.460664e-02</td>\n",
       "      <td>-3.149945e-01</td>\n",
       "    </tr>\n",
       "    <tr>\n",
       "      <th>75%</th>\n",
       "      <td>54682.000000</td>\n",
       "      <td>61.000000</td>\n",
       "      <td>0.000000</td>\n",
       "      <td>0.000000</td>\n",
       "      <td>1.000000</td>\n",
       "      <td>114.090000</td>\n",
       "      <td>32.800000</td>\n",
       "      <td>0.000000</td>\n",
       "      <td>33.000000</td>\n",
       "      <td>5.356802e-01</td>\n",
       "      <td>1.754080e-01</td>\n",
       "    </tr>\n",
       "    <tr>\n",
       "      <th>max</th>\n",
       "      <td>72940.000000</td>\n",
       "      <td>82.000000</td>\n",
       "      <td>1.000000</td>\n",
       "      <td>1.000000</td>\n",
       "      <td>1.000000</td>\n",
       "      <td>271.740000</td>\n",
       "      <td>59.700000</td>\n",
       "      <td>1.000000</td>\n",
       "      <td>59.700000</td>\n",
       "      <td>4.163010e+00</td>\n",
       "      <td>3.657145e+00</td>\n",
       "    </tr>\n",
       "  </tbody>\n",
       "</table>\n",
       "</div>"
      ],
      "text/plain": [
       "                 id          age  hypertension  heart_disease  ever_married  \\\n",
       "count   5110.000000  5110.000000   5110.000000    5110.000000   5110.000000   \n",
       "mean   36517.829354    43.226614      0.097456       0.054012      0.656164   \n",
       "std    21161.721625    22.612731      0.296607       0.226063      0.475034   \n",
       "min       67.000000     0.000000      0.000000       0.000000      0.000000   \n",
       "25%    17741.250000    25.000000      0.000000       0.000000      0.000000   \n",
       "50%    36932.000000    45.000000      0.000000       0.000000      1.000000   \n",
       "75%    54682.000000    61.000000      0.000000       0.000000      1.000000   \n",
       "max    72940.000000    82.000000      1.000000       1.000000      1.000000   \n",
       "\n",
       "       avg_glucose_level          bmi       stroke      bmi_raw    bmi_zscore  \\\n",
       "count        5110.000000  5110.000000  5110.000000  4892.000000  5.110000e+03   \n",
       "mean          106.147677    28.827436     0.048728    28.799714  6.651453e-16   \n",
       "std            45.283560     7.416649     0.215320     7.541793  1.000098e+00   \n",
       "min            55.120000    12.300000     0.000000    12.300000 -2.228642e+00   \n",
       "25%            77.245000    23.700000     0.000000    23.500000 -6.914090e-01   \n",
       "50%            91.885000    28.200000     0.000000    28.000000 -8.460664e-02   \n",
       "75%           114.090000    32.800000     0.000000    33.000000  5.356802e-01   \n",
       "max           271.740000    59.700000     1.000000    59.700000  4.163010e+00   \n",
       "\n",
       "       avg_glucose_level_zscore  \n",
       "count              5.110000e+03  \n",
       "mean               3.603293e-15  \n",
       "std                1.000098e+00  \n",
       "min               -1.126958e+00  \n",
       "25%               -6.383223e-01  \n",
       "50%               -3.149945e-01  \n",
       "75%                1.754080e-01  \n",
       "max                3.657145e+00  "
      ]
     },
     "execution_count": 292,
     "metadata": {},
     "output_type": "execute_result"
    }
   ],
   "source": [
    "df.describe()"
   ]
  },
  {
   "cell_type": "code",
   "execution_count": 293,
   "metadata": {},
   "outputs": [
    {
     "name": "stdout",
     "output_type": "stream",
     "text": [
      "spearman's corr for bmi/stroke:  0.05855895551806585\n",
      "spearman's corr for bmi/heart disease:  0.05855895551806585\n",
      "spearman's corr for bmi/hypertension:  0.165169708526942\n",
      "spearman's corr for bmi/glucose level:  0.11761086562324173\n",
      "spearman's corr for bmi/age:  0.37438637536009417\n",
      "\n",
      "\n",
      "pearson's corr for bmi/stroke:  0.045970863914884794\n",
      "pearson's corr for bmi/heart disease:  0.045970863914884794\n",
      "pearson's corr for bmi/hypertension:  0.1543508360317531\n",
      "pearson's corr for bmi/glucose level:  0.1818797607890085\n",
      "pearson's corr for bmi/age:  0.3513218942147936\n"
     ]
    }
   ],
   "source": [
    "corr_bmi_stroke_spearman = df['bmi'].corr(df['stroke'], method='spearman')\n",
    "print(\"spearman's corr for bmi/stroke: \", corr_bmi_stroke_spearman)\n",
    "\n",
    "corr_bmi_heart_disease_spearman = df['bmi'].corr(df['stroke'], method='spearman')\n",
    "print(\"spearman's corr for bmi/heart disease: \", corr_bmi_heart_disease_spearman)\n",
    "\n",
    "corr_bmi_hypertension_spearman = df['bmi'].corr(df['hypertension'], method='spearman')\n",
    "print(\"spearman's corr for bmi/hypertension: \", corr_bmi_hypertension_spearman)\n",
    "\n",
    "corr_bmi_glucose_spearman = df['bmi'].corr(df['avg_glucose_level'], method='spearman')\n",
    "print(\"spearman's corr for bmi/glucose level: \", corr_bmi_glucose_spearman)\n",
    "\n",
    "corr_bmi_age_spearman = df['bmi'].corr(df['age'], method='spearman')\n",
    "print(\"spearman's corr for bmi/age: \", corr_bmi_age_spearman)\n",
    "print(\"\\n\")\n",
    "\n",
    "corr_bmi_stroke_pearson = df['bmi'].corr(df['stroke'], method='pearson')\n",
    "print(\"pearson's corr for bmi/stroke: \", corr_bmi_stroke_pearson)\n",
    "\n",
    "corr_bmi_heart_disease_pearson = df['bmi'].corr(df['stroke'], method='pearson')\n",
    "print(\"pearson's corr for bmi/heart disease: \", corr_bmi_heart_disease_pearson)\n",
    "\n",
    "corr_bmi_hypertension_pearson = df['bmi'].corr(df['hypertension'], method='pearson')\n",
    "print(\"pearson's corr for bmi/hypertension: \", corr_bmi_hypertension_pearson)\n",
    "\n",
    "corr_bmi_glucose_pearson = df['bmi'].corr(df['avg_glucose_level'], method='pearson')\n",
    "print(\"pearson's corr for bmi/glucose level: \", corr_bmi_glucose_pearson)\n",
    "\n",
    "corr_bmi_age_pearson = df['bmi'].corr(df['age'], method='pearson')\n",
    "print(\"pearson's corr for bmi/age: \", corr_bmi_age_pearson)\n"
   ]
  },
  {
   "cell_type": "code",
   "execution_count": 294,
   "metadata": {},
   "outputs": [
    {
     "name": "stdout",
     "output_type": "stream",
     "text": [
      "spearman's corr for stroke/heart disease:  0.1349139969686927\n",
      "spearman's corr for stroke/glucose:  0.08254063654762092\n",
      "spearman's corr for stroke/hypertension:  0.12790382346648016\n",
      "spearman's corr for stroke/age:  0.24952018424593772\n",
      "\n",
      "\n",
      "pearson's corr for stroke/heart disease:  0.1349139969686922\n",
      "pearson's corr for stroke/glucose:  0.13194544082570997\n",
      "pearson's corr for stroke/hypertension:  0.12790382346648\n",
      "pearson's corr for stroke/age:  0.24524356886185403\n"
     ]
    }
   ],
   "source": [
    "corr_stroke_heart_disease_spearman = df['stroke'].corr(df['heart_disease'], method='spearman')\n",
    "print(\"spearman's corr for stroke/heart disease: \", corr_stroke_heart_disease_spearman)\n",
    "\n",
    "corr_stroke_glucose_spearman = df['stroke'].corr(df['avg_glucose_level'], method='spearman')\n",
    "print(\"spearman's corr for stroke/glucose: \", corr_stroke_glucose_spearman)\n",
    "\n",
    "corr_stroke_hypertension_spearman = df['stroke'].corr(df['hypertension'], method='spearman')\n",
    "print(\"spearman's corr for stroke/hypertension: \", corr_stroke_hypertension_spearman)\n",
    "\n",
    "corr_stroke_age_spearman = df['stroke'].corr(df['age'], method='spearman')\n",
    "print(\"spearman's corr for stroke/age: \", corr_stroke_age_spearman)\n",
    "\n",
    "print(\"\\n\")\n",
    "\n",
    "corr_stroke_heart_disease_pearson = df['stroke'].corr(df['heart_disease'], method='pearson')\n",
    "print(\"pearson's corr for stroke/heart disease: \", corr_stroke_heart_disease_pearson)\n",
    "\n",
    "corr_stroke_glucose_pearson = df['stroke'].corr(df['avg_glucose_level'], method='pearson')\n",
    "print(\"pearson's corr for stroke/glucose: \", corr_stroke_glucose_pearson)\n",
    "\n",
    "corr_stroke_hypertension_pearson = df['stroke'].corr(df['hypertension'], method='pearson')\n",
    "print(\"pearson's corr for stroke/hypertension: \", corr_stroke_hypertension_pearson)\n",
    "\n",
    "corr_stroke_age_pearson = df['stroke'].corr(df['age'], method='pearson')\n",
    "print(\"pearson's corr for stroke/age: \", corr_stroke_age_pearson)"
   ]
  },
  {
   "cell_type": "code",
   "execution_count": 295,
   "metadata": {},
   "outputs": [
    {
     "name": "stdout",
     "output_type": "stream",
     "text": [
      "Plot for avg glocose and bmi\n"
     ]
    },
    {
     "data": {
      "text/plain": [
       "<AxesSubplot:xlabel='avg_glucose_level', ylabel='bmi'>"
      ]
     },
     "execution_count": 295,
     "metadata": {},
     "output_type": "execute_result"
    },
    {
     "data": {
      "image/png": "[encoded data removed]",
      "text/plain": [
       "<Figure size 432x288 with 1 Axes>"
      ]
     },
     "metadata": {
      "needs_background": "light"
     },
     "output_type": "display_data"
    }
   ],
   "source": [
    "sns.regplot(x=df['avg_glucose_level'],y=df['bmi'], line_kws={\"color\": \"red\"})"
   ]
  },
  {
   "cell_type": "code",
   "execution_count": 296,
   "metadata": {},
   "outputs": [
    {
     "name": "stdout",
     "output_type": "stream",
     "text": [
      "Plot for age and bmi\n"
     ]
    },
    {
     "data": {
      "text/plain": [
       "<AxesSubplot:xlabel='age', ylabel='bmi'>"
      ]
     },
     "execution_count": 296,
     "metadata": {},
     "output_type": "execute_result"
    },
    {
     "data": {
      "image/png": "[encoded data removed]",
      "text/plain": [
       "<Figure size 432x288 with 1 Axes>"
      ]
     },
     "metadata": {
      "needs_background": "light"
     },
     "output_type": "display_data"
    }
   ],
   "source": [
    "sns.regplot(x=df['age'],y=df['bmi'], line_kws={\"color\": \"red\"})"
   ]
  },
  {
   "cell_type": "code",
   "execution_count": 297,
   "metadata": {},
   "outputs": [
    {
     "data": {
      "text/plain": [
       "<AxesSubplot:xlabel='age', ylabel='avg_glucose_level'>"
      ]
     },
     "execution_count": 297,
     "metadata": {},
     "output_type": "execute_result"
    },
    {
     "data": {
      "image/png": "[encoded data removed]",
      "text/plain": [
       "<Figure size 432x288 with 1 Axes>"
      ]
     },
     "metadata": {
      "needs_background": "light"
     },
     "output_type": "display_data"
    }
   ],
   "source": [
    "sns.regplot(x=df['age'],y=df['avg_glucose_level'], line_kws={\"color\": \"red\"})"
   ]
  },
  {
   "cell_type": "code",
   "execution_count": 298,
   "metadata": {},
   "outputs": [
    {
     "data": {
      "text/html": [
       "<div>\n",
       "<style scoped>\n",
       "    .dataframe tbody tr th:only-of-type {\n",
       "        vertical-align: middle;\n",
       "    }\n",
       "\n",
       "    .dataframe tbody tr th {\n",
       "        vertical-align: top;\n",
       "    }\n",
       "\n",
       "    .dataframe thead th {\n",
       "        text-align: right;\n",
       "    }\n",
       "</style>\n",
       "<table border=\"1\" class=\"dataframe\">\n",
       "  <thead>\n",
       "    <tr style=\"text-align: right;\">\n",
       "      <th></th>\n",
       "      <th>id</th>\n",
       "      <th>gender</th>\n",
       "      <th>age</th>\n",
       "      <th>hypertension</th>\n",
       "      <th>heart_disease</th>\n",
       "      <th>ever_married</th>\n",
       "      <th>work_type</th>\n",
       "      <th>residence_type</th>\n",
       "      <th>avg_glucose_level</th>\n",
       "      <th>bmi</th>\n",
       "      <th>smoking_status</th>\n",
       "      <th>stroke</th>\n",
       "      <th>bmi_raw</th>\n",
       "      <th>age_bin</th>\n",
       "      <th>avg_glucose_level_bin</th>\n",
       "      <th>bmi_bin</th>\n",
       "      <th>bmi_zscore</th>\n",
       "      <th>avg_glucose_level_zscore</th>\n",
       "    </tr>\n",
       "  </thead>\n",
       "  <tbody>\n",
       "    <tr>\n",
       "      <th>0</th>\n",
       "      <td>9046</td>\n",
       "      <td>male</td>\n",
       "      <td>67</td>\n",
       "      <td>0</td>\n",
       "      <td>1</td>\n",
       "      <td>1</td>\n",
       "      <td>private</td>\n",
       "      <td>urban</td>\n",
       "      <td>228.69</td>\n",
       "      <td>36.6</td>\n",
       "      <td>formerly-smoked</td>\n",
       "      <td>1</td>\n",
       "      <td>36.6</td>\n",
       "      <td>(65.0, 75.0]</td>\n",
       "      <td>(192.2, 271.7]</td>\n",
       "      <td>(34.2, 38.6]</td>\n",
       "      <td>1.048091</td>\n",
       "      <td>2.706375</td>\n",
       "    </tr>\n",
       "    <tr>\n",
       "      <th>1</th>\n",
       "      <td>51676</td>\n",
       "      <td>female</td>\n",
       "      <td>61</td>\n",
       "      <td>0</td>\n",
       "      <td>0</td>\n",
       "      <td>1</td>\n",
       "      <td>self-employed</td>\n",
       "      <td>rural</td>\n",
       "      <td>202.21</td>\n",
       "      <td>29.1</td>\n",
       "      <td>never-smoked</td>\n",
       "      <td>1</td>\n",
       "      <td>NaN</td>\n",
       "      <td>(57.0, 65.0]</td>\n",
       "      <td>(192.2, 271.7]</td>\n",
       "      <td>(28.2, 29.9]</td>\n",
       "      <td>0.036754</td>\n",
       "      <td>2.121559</td>\n",
       "    </tr>\n",
       "    <tr>\n",
       "      <th>2</th>\n",
       "      <td>31112</td>\n",
       "      <td>male</td>\n",
       "      <td>80</td>\n",
       "      <td>0</td>\n",
       "      <td>1</td>\n",
       "      <td>1</td>\n",
       "      <td>private</td>\n",
       "      <td>rural</td>\n",
       "      <td>105.92</td>\n",
       "      <td>32.5</td>\n",
       "      <td>never-smoked</td>\n",
       "      <td>1</td>\n",
       "      <td>32.5</td>\n",
       "      <td>(75.0, 82.0]</td>\n",
       "      <td>(98.9, 108.5]</td>\n",
       "      <td>(31.8, 34.2]</td>\n",
       "      <td>0.495227</td>\n",
       "      <td>-0.005028</td>\n",
       "    </tr>\n",
       "    <tr>\n",
       "      <th>3</th>\n",
       "      <td>60182</td>\n",
       "      <td>female</td>\n",
       "      <td>49</td>\n",
       "      <td>0</td>\n",
       "      <td>0</td>\n",
       "      <td>1</td>\n",
       "      <td>private</td>\n",
       "      <td>urban</td>\n",
       "      <td>171.23</td>\n",
       "      <td>34.4</td>\n",
       "      <td>smokes</td>\n",
       "      <td>1</td>\n",
       "      <td>34.4</td>\n",
       "      <td>(45.0, 51.0]</td>\n",
       "      <td>(124.2, 192.2]</td>\n",
       "      <td>(34.2, 38.6]</td>\n",
       "      <td>0.751432</td>\n",
       "      <td>1.437358</td>\n",
       "    </tr>\n",
       "    <tr>\n",
       "      <th>4</th>\n",
       "      <td>1665</td>\n",
       "      <td>female</td>\n",
       "      <td>79</td>\n",
       "      <td>1</td>\n",
       "      <td>0</td>\n",
       "      <td>1</td>\n",
       "      <td>self-employed</td>\n",
       "      <td>rural</td>\n",
       "      <td>174.12</td>\n",
       "      <td>24.0</td>\n",
       "      <td>never-smoked</td>\n",
       "      <td>1</td>\n",
       "      <td>24.0</td>\n",
       "      <td>(75.0, 82.0]</td>\n",
       "      <td>(124.2, 192.2]</td>\n",
       "      <td>(22.6, 24.7]</td>\n",
       "      <td>-0.650956</td>\n",
       "      <td>1.501184</td>\n",
       "    </tr>\n",
       "  </tbody>\n",
       "</table>\n",
       "</div>"
      ],
      "text/plain": [
       "      id  gender  age  hypertension  heart_disease  ever_married  \\\n",
       "0   9046    male   67             0              1             1   \n",
       "1  51676  female   61             0              0             1   \n",
       "2  31112    male   80             0              1             1   \n",
       "3  60182  female   49             0              0             1   \n",
       "4   1665  female   79             1              0             1   \n",
       "\n",
       "       work_type residence_type  avg_glucose_level   bmi   smoking_status  \\\n",
       "0        private          urban             228.69  36.6  formerly-smoked   \n",
       "1  self-employed          rural             202.21  29.1     never-smoked   \n",
       "2        private          rural             105.92  32.5     never-smoked   \n",
       "3        private          urban             171.23  34.4           smokes   \n",
       "4  self-employed          rural             174.12  24.0     never-smoked   \n",
       "\n",
       "   stroke  bmi_raw       age_bin avg_glucose_level_bin       bmi_bin  \\\n",
       "0       1     36.6  (65.0, 75.0]        (192.2, 271.7]  (34.2, 38.6]   \n",
       "1       1      NaN  (57.0, 65.0]        (192.2, 271.7]  (28.2, 29.9]   \n",
       "2       1     32.5  (75.0, 82.0]         (98.9, 108.5]  (31.8, 34.2]   \n",
       "3       1     34.4  (45.0, 51.0]        (124.2, 192.2]  (34.2, 38.6]   \n",
       "4       1     24.0  (75.0, 82.0]        (124.2, 192.2]  (22.6, 24.7]   \n",
       "\n",
       "   bmi_zscore  avg_glucose_level_zscore  \n",
       "0    1.048091                  2.706375  \n",
       "1    0.036754                  2.121559  \n",
       "2    0.495227                 -0.005028  \n",
       "3    0.751432                  1.437358  \n",
       "4   -0.650956                  1.501184  "
      ]
     },
     "execution_count": 298,
     "metadata": {},
     "output_type": "execute_result"
    }
   ],
   "source": [
    "df.head()"
   ]
  },
  {
   "cell_type": "code",
   "execution_count": 299,
   "metadata": {},
   "outputs": [
    {
     "data": {
      "image/png": "[encoded data removed]",
      "text/plain": [
       "<Figure size 540x540 with 12 Axes>"
      ]
     },
     "metadata": {
      "needs_background": "light"
     },
     "output_type": "display_data"
    }
   ],
   "source": [
    "sns.pairplot(numerical, \n",
    "             kind='reg', \n",
    "             plot_kws={'line_kws':{'color':'red'}, 'scatter_kws': {'alpha': 0.1}})\n",
    "plt.show()"
   ]
  },
  {
   "cell_type": "markdown",
   "metadata": {},
   "source": [
    "<h1> Some useful cross tables</h1>\n",
    "    <P>For each cross tabulation, we have the counts and values as a percentage<P>"
   ]
  },
  {
   "cell_type": "markdown",
   "metadata": {},
   "source": [
    "<h3>Bmi bins and stroke"
   ]
  },
  {
   "cell_type": "code",
   "execution_count": 318,
   "metadata": {},
   "outputs": [
    {
     "data": {
      "text/html": [
       "<div>\n",
       "<style scoped>\n",
       "    .dataframe tbody tr th:only-of-type {\n",
       "        vertical-align: middle;\n",
       "    }\n",
       "\n",
       "    .dataframe tbody tr th {\n",
       "        vertical-align: top;\n",
       "    }\n",
       "\n",
       "    .dataframe thead th {\n",
       "        text-align: right;\n",
       "    }\n",
       "</style>\n",
       "<table border=\"1\" class=\"dataframe\">\n",
       "  <thead>\n",
       "    <tr style=\"text-align: right;\">\n",
       "      <th>stroke</th>\n",
       "      <th>0</th>\n",
       "      <th>1</th>\n",
       "    </tr>\n",
       "    <tr>\n",
       "      <th>bmi_bin</th>\n",
       "      <th></th>\n",
       "      <th></th>\n",
       "    </tr>\n",
       "  </thead>\n",
       "  <tbody>\n",
       "    <tr>\n",
       "      <th>(12.200000000000001, 19.8]</th>\n",
       "      <td>518</td>\n",
       "      <td>4</td>\n",
       "    </tr>\n",
       "    <tr>\n",
       "      <th>(19.8, 22.6]</th>\n",
       "      <td>489</td>\n",
       "      <td>14</td>\n",
       "    </tr>\n",
       "    <tr>\n",
       "      <th>(22.6, 24.7]</th>\n",
       "      <td>491</td>\n",
       "      <td>19</td>\n",
       "    </tr>\n",
       "    <tr>\n",
       "      <th>(24.7, 26.6]</th>\n",
       "      <td>498</td>\n",
       "      <td>21</td>\n",
       "    </tr>\n",
       "    <tr>\n",
       "      <th>(26.6, 28.2]</th>\n",
       "      <td>464</td>\n",
       "      <td>39</td>\n",
       "    </tr>\n",
       "    <tr>\n",
       "      <th>(28.2, 29.9]</th>\n",
       "      <td>487</td>\n",
       "      <td>33</td>\n",
       "    </tr>\n",
       "    <tr>\n",
       "      <th>(29.9, 31.8]</th>\n",
       "      <td>469</td>\n",
       "      <td>45</td>\n",
       "    </tr>\n",
       "    <tr>\n",
       "      <th>(31.8, 34.2]</th>\n",
       "      <td>471</td>\n",
       "      <td>26</td>\n",
       "    </tr>\n",
       "    <tr>\n",
       "      <th>(34.2, 38.6]</th>\n",
       "      <td>490</td>\n",
       "      <td>26</td>\n",
       "    </tr>\n",
       "    <tr>\n",
       "      <th>(38.6, 59.7]</th>\n",
       "      <td>484</td>\n",
       "      <td>22</td>\n",
       "    </tr>\n",
       "  </tbody>\n",
       "</table>\n",
       "</div>"
      ],
      "text/plain": [
       "stroke                        0   1\n",
       "bmi_bin                            \n",
       "(12.200000000000001, 19.8]  518   4\n",
       "(19.8, 22.6]                489  14\n",
       "(22.6, 24.7]                491  19\n",
       "(24.7, 26.6]                498  21\n",
       "(26.6, 28.2]                464  39\n",
       "(28.2, 29.9]                487  33\n",
       "(29.9, 31.8]                469  45\n",
       "(31.8, 34.2]                471  26\n",
       "(34.2, 38.6]                490  26\n",
       "(38.6, 59.7]                484  22"
      ]
     },
     "execution_count": 318,
     "metadata": {},
     "output_type": "execute_result"
    }
   ],
   "source": [
    "ctab_bmi_stroke = pd.crosstab(df.bmi_bin,df.stroke)\n",
    "ctab_bmi_stroke"
   ]
  },
  {
   "cell_type": "code",
   "execution_count": 319,
   "metadata": {},
   "outputs": [
    {
     "data": {
      "text/html": [
       "<div>\n",
       "<style scoped>\n",
       "    .dataframe tbody tr th:only-of-type {\n",
       "        vertical-align: middle;\n",
       "    }\n",
       "\n",
       "    .dataframe tbody tr th {\n",
       "        vertical-align: top;\n",
       "    }\n",
       "\n",
       "    .dataframe thead th {\n",
       "        text-align: right;\n",
       "    }\n",
       "</style>\n",
       "<table border=\"1\" class=\"dataframe\">\n",
       "  <thead>\n",
       "    <tr style=\"text-align: right;\">\n",
       "      <th>stroke</th>\n",
       "      <th>0</th>\n",
       "      <th>1</th>\n",
       "    </tr>\n",
       "    <tr>\n",
       "      <th>bmi_bin</th>\n",
       "      <th></th>\n",
       "      <th></th>\n",
       "    </tr>\n",
       "  </thead>\n",
       "  <tbody>\n",
       "    <tr>\n",
       "      <th>(12.200000000000001, 19.8]</th>\n",
       "      <td>0.992337</td>\n",
       "      <td>0.007663</td>\n",
       "    </tr>\n",
       "    <tr>\n",
       "      <th>(19.8, 22.6]</th>\n",
       "      <td>0.972167</td>\n",
       "      <td>0.027833</td>\n",
       "    </tr>\n",
       "    <tr>\n",
       "      <th>(22.6, 24.7]</th>\n",
       "      <td>0.962745</td>\n",
       "      <td>0.037255</td>\n",
       "    </tr>\n",
       "    <tr>\n",
       "      <th>(24.7, 26.6]</th>\n",
       "      <td>0.959538</td>\n",
       "      <td>0.040462</td>\n",
       "    </tr>\n",
       "    <tr>\n",
       "      <th>(26.6, 28.2]</th>\n",
       "      <td>0.922465</td>\n",
       "      <td>0.077535</td>\n",
       "    </tr>\n",
       "    <tr>\n",
       "      <th>(28.2, 29.9]</th>\n",
       "      <td>0.936538</td>\n",
       "      <td>0.063462</td>\n",
       "    </tr>\n",
       "    <tr>\n",
       "      <th>(29.9, 31.8]</th>\n",
       "      <td>0.912451</td>\n",
       "      <td>0.087549</td>\n",
       "    </tr>\n",
       "    <tr>\n",
       "      <th>(31.8, 34.2]</th>\n",
       "      <td>0.947686</td>\n",
       "      <td>0.052314</td>\n",
       "    </tr>\n",
       "    <tr>\n",
       "      <th>(34.2, 38.6]</th>\n",
       "      <td>0.949612</td>\n",
       "      <td>0.050388</td>\n",
       "    </tr>\n",
       "    <tr>\n",
       "      <th>(38.6, 59.7]</th>\n",
       "      <td>0.956522</td>\n",
       "      <td>0.043478</td>\n",
       "    </tr>\n",
       "  </tbody>\n",
       "</table>\n",
       "</div>"
      ],
      "text/plain": [
       "stroke                             0         1\n",
       "bmi_bin                                       \n",
       "(12.200000000000001, 19.8]  0.992337  0.007663\n",
       "(19.8, 22.6]                0.972167  0.027833\n",
       "(22.6, 24.7]                0.962745  0.037255\n",
       "(24.7, 26.6]                0.959538  0.040462\n",
       "(26.6, 28.2]                0.922465  0.077535\n",
       "(28.2, 29.9]                0.936538  0.063462\n",
       "(29.9, 31.8]                0.912451  0.087549\n",
       "(31.8, 34.2]                0.947686  0.052314\n",
       "(34.2, 38.6]                0.949612  0.050388\n",
       "(38.6, 59.7]                0.956522  0.043478"
      ]
     },
     "execution_count": 319,
     "metadata": {},
     "output_type": "execute_result"
    }
   ],
   "source": [
    "(ctab_bmi_stroke.transpose() / ctab_bmi_stroke.sum(axis=1)).transpose()"
   ]
  },
  {
   "cell_type": "markdown",
   "metadata": {},
   "source": [
    "<h3>Ever_married and stroke"
   ]
  },
  {
   "cell_type": "code",
   "execution_count": 320,
   "metadata": {},
   "outputs": [
    {
     "data": {
      "text/html": [
       "<div>\n",
       "<style scoped>\n",
       "    .dataframe tbody tr th:only-of-type {\n",
       "        vertical-align: middle;\n",
       "    }\n",
       "\n",
       "    .dataframe tbody tr th {\n",
       "        vertical-align: top;\n",
       "    }\n",
       "\n",
       "    .dataframe thead th {\n",
       "        text-align: right;\n",
       "    }\n",
       "</style>\n",
       "<table border=\"1\" class=\"dataframe\">\n",
       "  <thead>\n",
       "    <tr style=\"text-align: right;\">\n",
       "      <th>stroke</th>\n",
       "      <th>0</th>\n",
       "      <th>1</th>\n",
       "    </tr>\n",
       "    <tr>\n",
       "      <th>ever_married</th>\n",
       "      <th></th>\n",
       "      <th></th>\n",
       "    </tr>\n",
       "  </thead>\n",
       "  <tbody>\n",
       "    <tr>\n",
       "      <th>0</th>\n",
       "      <td>1728</td>\n",
       "      <td>29</td>\n",
       "    </tr>\n",
       "    <tr>\n",
       "      <th>1</th>\n",
       "      <td>3133</td>\n",
       "      <td>220</td>\n",
       "    </tr>\n",
       "  </tbody>\n",
       "</table>\n",
       "</div>"
      ],
      "text/plain": [
       "stroke           0    1\n",
       "ever_married           \n",
       "0             1728   29\n",
       "1             3133  220"
      ]
     },
     "execution_count": 320,
     "metadata": {},
     "output_type": "execute_result"
    }
   ],
   "source": [
    "ctab_married_stroke = pd.crosstab(df.ever_married,df.stroke)\n",
    "ctab_married_stroke"
   ]
  },
  {
   "cell_type": "code",
   "execution_count": 321,
   "metadata": {},
   "outputs": [
    {
     "data": {
      "text/html": [
       "<div>\n",
       "<style scoped>\n",
       "    .dataframe tbody tr th:only-of-type {\n",
       "        vertical-align: middle;\n",
       "    }\n",
       "\n",
       "    .dataframe tbody tr th {\n",
       "        vertical-align: top;\n",
       "    }\n",
       "\n",
       "    .dataframe thead th {\n",
       "        text-align: right;\n",
       "    }\n",
       "</style>\n",
       "<table border=\"1\" class=\"dataframe\">\n",
       "  <thead>\n",
       "    <tr style=\"text-align: right;\">\n",
       "      <th>stroke</th>\n",
       "      <th>0</th>\n",
       "      <th>1</th>\n",
       "    </tr>\n",
       "    <tr>\n",
       "      <th>ever_married</th>\n",
       "      <th></th>\n",
       "      <th></th>\n",
       "    </tr>\n",
       "  </thead>\n",
       "  <tbody>\n",
       "    <tr>\n",
       "      <th>0</th>\n",
       "      <td>0.983495</td>\n",
       "      <td>0.016505</td>\n",
       "    </tr>\n",
       "    <tr>\n",
       "      <th>1</th>\n",
       "      <td>0.934387</td>\n",
       "      <td>0.065613</td>\n",
       "    </tr>\n",
       "  </tbody>\n",
       "</table>\n",
       "</div>"
      ],
      "text/plain": [
       "stroke               0         1\n",
       "ever_married                    \n",
       "0             0.983495  0.016505\n",
       "1             0.934387  0.065613"
      ]
     },
     "execution_count": 321,
     "metadata": {},
     "output_type": "execute_result"
    }
   ],
   "source": [
    "(ctab_married_stroke.transpose() / ctab_married_stroke.sum(axis=1)).transpose()"
   ]
  },
  {
   "cell_type": "markdown",
   "metadata": {},
   "source": [
    "<h3>Smoking and stroke"
   ]
  },
  {
   "cell_type": "code",
   "execution_count": 322,
   "metadata": {},
   "outputs": [
    {
     "data": {
      "text/html": [
       "<div>\n",
       "<style scoped>\n",
       "    .dataframe tbody tr th:only-of-type {\n",
       "        vertical-align: middle;\n",
       "    }\n",
       "\n",
       "    .dataframe tbody tr th {\n",
       "        vertical-align: top;\n",
       "    }\n",
       "\n",
       "    .dataframe thead th {\n",
       "        text-align: right;\n",
       "    }\n",
       "</style>\n",
       "<table border=\"1\" class=\"dataframe\">\n",
       "  <thead>\n",
       "    <tr style=\"text-align: right;\">\n",
       "      <th>stroke</th>\n",
       "      <th>0</th>\n",
       "      <th>1</th>\n",
       "    </tr>\n",
       "    <tr>\n",
       "      <th>smoking_status</th>\n",
       "      <th></th>\n",
       "      <th></th>\n",
       "    </tr>\n",
       "  </thead>\n",
       "  <tbody>\n",
       "    <tr>\n",
       "      <th>formerly-smoked</th>\n",
       "      <td>815</td>\n",
       "      <td>70</td>\n",
       "    </tr>\n",
       "    <tr>\n",
       "      <th>never-smoked</th>\n",
       "      <td>1802</td>\n",
       "      <td>90</td>\n",
       "    </tr>\n",
       "    <tr>\n",
       "      <th>smokes</th>\n",
       "      <td>747</td>\n",
       "      <td>42</td>\n",
       "    </tr>\n",
       "    <tr>\n",
       "      <th>unknown</th>\n",
       "      <td>1497</td>\n",
       "      <td>47</td>\n",
       "    </tr>\n",
       "  </tbody>\n",
       "</table>\n",
       "</div>"
      ],
      "text/plain": [
       "stroke              0   1\n",
       "smoking_status           \n",
       "formerly-smoked   815  70\n",
       "never-smoked     1802  90\n",
       "smokes            747  42\n",
       "unknown          1497  47"
      ]
     },
     "execution_count": 322,
     "metadata": {},
     "output_type": "execute_result"
    }
   ],
   "source": [
    "ctab_smoke_stroke = pd.crosstab(df.smoking_status,df.stroke)\n",
    "ctab_smoke_stroke"
   ]
  },
  {
   "cell_type": "code",
   "execution_count": 323,
   "metadata": {},
   "outputs": [
    {
     "data": {
      "text/html": [
       "<div>\n",
       "<style scoped>\n",
       "    .dataframe tbody tr th:only-of-type {\n",
       "        vertical-align: middle;\n",
       "    }\n",
       "\n",
       "    .dataframe tbody tr th {\n",
       "        vertical-align: top;\n",
       "    }\n",
       "\n",
       "    .dataframe thead th {\n",
       "        text-align: right;\n",
       "    }\n",
       "</style>\n",
       "<table border=\"1\" class=\"dataframe\">\n",
       "  <thead>\n",
       "    <tr style=\"text-align: right;\">\n",
       "      <th>stroke</th>\n",
       "      <th>0</th>\n",
       "      <th>1</th>\n",
       "    </tr>\n",
       "    <tr>\n",
       "      <th>smoking_status</th>\n",
       "      <th></th>\n",
       "      <th></th>\n",
       "    </tr>\n",
       "  </thead>\n",
       "  <tbody>\n",
       "    <tr>\n",
       "      <th>formerly-smoked</th>\n",
       "      <td>0.920904</td>\n",
       "      <td>0.079096</td>\n",
       "    </tr>\n",
       "    <tr>\n",
       "      <th>never-smoked</th>\n",
       "      <td>0.952431</td>\n",
       "      <td>0.047569</td>\n",
       "    </tr>\n",
       "    <tr>\n",
       "      <th>smokes</th>\n",
       "      <td>0.946768</td>\n",
       "      <td>0.053232</td>\n",
       "    </tr>\n",
       "    <tr>\n",
       "      <th>unknown</th>\n",
       "      <td>0.969560</td>\n",
       "      <td>0.030440</td>\n",
       "    </tr>\n",
       "  </tbody>\n",
       "</table>\n",
       "</div>"
      ],
      "text/plain": [
       "stroke                  0         1\n",
       "smoking_status                     \n",
       "formerly-smoked  0.920904  0.079096\n",
       "never-smoked     0.952431  0.047569\n",
       "smokes           0.946768  0.053232\n",
       "unknown          0.969560  0.030440"
      ]
     },
     "execution_count": 323,
     "metadata": {},
     "output_type": "execute_result"
    }
   ],
   "source": [
    "(ctab_smoke_stroke.transpose() / ctab_smoke_stroke.sum(axis=1)).transpose()"
   ]
  },
  {
   "cell_type": "markdown",
   "metadata": {},
   "source": [
    "<h3>Age and stroke"
   ]
  },
  {
   "cell_type": "code",
   "execution_count": 328,
   "metadata": {},
   "outputs": [
    {
     "data": {
      "text/html": [
       "<div>\n",
       "<style scoped>\n",
       "    .dataframe tbody tr th:only-of-type {\n",
       "        vertical-align: middle;\n",
       "    }\n",
       "\n",
       "    .dataframe tbody tr th {\n",
       "        vertical-align: top;\n",
       "    }\n",
       "\n",
       "    .dataframe thead th {\n",
       "        text-align: right;\n",
       "    }\n",
       "</style>\n",
       "<table border=\"1\" class=\"dataframe\">\n",
       "  <thead>\n",
       "    <tr style=\"text-align: right;\">\n",
       "      <th>stroke</th>\n",
       "      <th>0</th>\n",
       "      <th>1</th>\n",
       "    </tr>\n",
       "    <tr>\n",
       "      <th>age_bin</th>\n",
       "      <th></th>\n",
       "      <th></th>\n",
       "    </tr>\n",
       "  </thead>\n",
       "  <tbody>\n",
       "    <tr>\n",
       "      <th>(-0.1, 11.0]</th>\n",
       "      <td>542</td>\n",
       "      <td>1</td>\n",
       "    </tr>\n",
       "    <tr>\n",
       "      <th>(11.0, 20.0]</th>\n",
       "      <td>481</td>\n",
       "      <td>1</td>\n",
       "    </tr>\n",
       "    <tr>\n",
       "      <th>(20.0, 30.0]</th>\n",
       "      <td>545</td>\n",
       "      <td>0</td>\n",
       "    </tr>\n",
       "    <tr>\n",
       "      <th>(30.0, 38.0]</th>\n",
       "      <td>526</td>\n",
       "      <td>3</td>\n",
       "    </tr>\n",
       "    <tr>\n",
       "      <th>(38.0, 45.0]</th>\n",
       "      <td>511</td>\n",
       "      <td>8</td>\n",
       "    </tr>\n",
       "    <tr>\n",
       "      <th>(45.0, 51.0]</th>\n",
       "      <td>437</td>\n",
       "      <td>14</td>\n",
       "    </tr>\n",
       "    <tr>\n",
       "      <th>(51.0, 57.0]</th>\n",
       "      <td>491</td>\n",
       "      <td>26</td>\n",
       "    </tr>\n",
       "    <tr>\n",
       "      <th>(57.0, 65.0]</th>\n",
       "      <td>519</td>\n",
       "      <td>40</td>\n",
       "    </tr>\n",
       "    <tr>\n",
       "      <th>(65.0, 75.0]</th>\n",
       "      <td>440</td>\n",
       "      <td>60</td>\n",
       "    </tr>\n",
       "    <tr>\n",
       "      <th>(75.0, 82.0]</th>\n",
       "      <td>369</td>\n",
       "      <td>96</td>\n",
       "    </tr>\n",
       "  </tbody>\n",
       "</table>\n",
       "</div>"
      ],
      "text/plain": [
       "stroke          0   1\n",
       "age_bin              \n",
       "(-0.1, 11.0]  542   1\n",
       "(11.0, 20.0]  481   1\n",
       "(20.0, 30.0]  545   0\n",
       "(30.0, 38.0]  526   3\n",
       "(38.0, 45.0]  511   8\n",
       "(45.0, 51.0]  437  14\n",
       "(51.0, 57.0]  491  26\n",
       "(57.0, 65.0]  519  40\n",
       "(65.0, 75.0]  440  60\n",
       "(75.0, 82.0]  369  96"
      ]
     },
     "execution_count": 328,
     "metadata": {},
     "output_type": "execute_result"
    }
   ],
   "source": [
    "ctab_age_stroke = pd.crosstab(df.age_bin,df.stroke)\n",
    "ctab_age_stroke"
   ]
  },
  {
   "cell_type": "code",
   "execution_count": 329,
   "metadata": {},
   "outputs": [
    {
     "data": {
      "text/html": [
       "<div>\n",
       "<style scoped>\n",
       "    .dataframe tbody tr th:only-of-type {\n",
       "        vertical-align: middle;\n",
       "    }\n",
       "\n",
       "    .dataframe tbody tr th {\n",
       "        vertical-align: top;\n",
       "    }\n",
       "\n",
       "    .dataframe thead th {\n",
       "        text-align: right;\n",
       "    }\n",
       "</style>\n",
       "<table border=\"1\" class=\"dataframe\">\n",
       "  <thead>\n",
       "    <tr style=\"text-align: right;\">\n",
       "      <th>stroke</th>\n",
       "      <th>0</th>\n",
       "      <th>1</th>\n",
       "    </tr>\n",
       "    <tr>\n",
       "      <th>age_bin</th>\n",
       "      <th></th>\n",
       "      <th></th>\n",
       "    </tr>\n",
       "  </thead>\n",
       "  <tbody>\n",
       "    <tr>\n",
       "      <th>(-0.1, 11.0]</th>\n",
       "      <td>0.998158</td>\n",
       "      <td>0.001842</td>\n",
       "    </tr>\n",
       "    <tr>\n",
       "      <th>(11.0, 20.0]</th>\n",
       "      <td>0.997925</td>\n",
       "      <td>0.002075</td>\n",
       "    </tr>\n",
       "    <tr>\n",
       "      <th>(20.0, 30.0]</th>\n",
       "      <td>1.000000</td>\n",
       "      <td>0.000000</td>\n",
       "    </tr>\n",
       "    <tr>\n",
       "      <th>(30.0, 38.0]</th>\n",
       "      <td>0.994329</td>\n",
       "      <td>0.005671</td>\n",
       "    </tr>\n",
       "    <tr>\n",
       "      <th>(38.0, 45.0]</th>\n",
       "      <td>0.984586</td>\n",
       "      <td>0.015414</td>\n",
       "    </tr>\n",
       "    <tr>\n",
       "      <th>(45.0, 51.0]</th>\n",
       "      <td>0.968958</td>\n",
       "      <td>0.031042</td>\n",
       "    </tr>\n",
       "    <tr>\n",
       "      <th>(51.0, 57.0]</th>\n",
       "      <td>0.949710</td>\n",
       "      <td>0.050290</td>\n",
       "    </tr>\n",
       "    <tr>\n",
       "      <th>(57.0, 65.0]</th>\n",
       "      <td>0.928444</td>\n",
       "      <td>0.071556</td>\n",
       "    </tr>\n",
       "    <tr>\n",
       "      <th>(65.0, 75.0]</th>\n",
       "      <td>0.880000</td>\n",
       "      <td>0.120000</td>\n",
       "    </tr>\n",
       "    <tr>\n",
       "      <th>(75.0, 82.0]</th>\n",
       "      <td>0.793548</td>\n",
       "      <td>0.206452</td>\n",
       "    </tr>\n",
       "  </tbody>\n",
       "</table>\n",
       "</div>"
      ],
      "text/plain": [
       "stroke               0         1\n",
       "age_bin                         \n",
       "(-0.1, 11.0]  0.998158  0.001842\n",
       "(11.0, 20.0]  0.997925  0.002075\n",
       "(20.0, 30.0]  1.000000  0.000000\n",
       "(30.0, 38.0]  0.994329  0.005671\n",
       "(38.0, 45.0]  0.984586  0.015414\n",
       "(45.0, 51.0]  0.968958  0.031042\n",
       "(51.0, 57.0]  0.949710  0.050290\n",
       "(57.0, 65.0]  0.928444  0.071556\n",
       "(65.0, 75.0]  0.880000  0.120000\n",
       "(75.0, 82.0]  0.793548  0.206452"
      ]
     },
     "execution_count": 329,
     "metadata": {},
     "output_type": "execute_result"
    }
   ],
   "source": [
    "(ctab_age_stroke.transpose() / ctab_age_stroke.sum(axis=1)).transpose()"
   ]
  },
  {
   "cell_type": "markdown",
   "metadata": {},
   "source": [
    "<h3>hypertension and stroke"
   ]
  },
  {
   "cell_type": "code",
   "execution_count": 331,
   "metadata": {},
   "outputs": [
    {
     "data": {
      "text/html": [
       "<div>\n",
       "<style scoped>\n",
       "    .dataframe tbody tr th:only-of-type {\n",
       "        vertical-align: middle;\n",
       "    }\n",
       "\n",
       "    .dataframe tbody tr th {\n",
       "        vertical-align: top;\n",
       "    }\n",
       "\n",
       "    .dataframe thead th {\n",
       "        text-align: right;\n",
       "    }\n",
       "</style>\n",
       "<table border=\"1\" class=\"dataframe\">\n",
       "  <thead>\n",
       "    <tr style=\"text-align: right;\">\n",
       "      <th>stroke</th>\n",
       "      <th>0</th>\n",
       "      <th>1</th>\n",
       "    </tr>\n",
       "    <tr>\n",
       "      <th>hypertension</th>\n",
       "      <th></th>\n",
       "      <th></th>\n",
       "    </tr>\n",
       "  </thead>\n",
       "  <tbody>\n",
       "    <tr>\n",
       "      <th>0</th>\n",
       "      <td>4429</td>\n",
       "      <td>183</td>\n",
       "    </tr>\n",
       "    <tr>\n",
       "      <th>1</th>\n",
       "      <td>432</td>\n",
       "      <td>66</td>\n",
       "    </tr>\n",
       "  </tbody>\n",
       "</table>\n",
       "</div>"
      ],
      "text/plain": [
       "stroke           0    1\n",
       "hypertension           \n",
       "0             4429  183\n",
       "1              432   66"
      ]
     },
     "execution_count": 331,
     "metadata": {},
     "output_type": "execute_result"
    }
   ],
   "source": [
    "ctab_hyper_stroke = pd.crosstab(df.hypertension,df.stroke)\n",
    "ctab_hyper_stroke"
   ]
  },
  {
   "cell_type": "code",
   "execution_count": 332,
   "metadata": {},
   "outputs": [
    {
     "data": {
      "text/html": [
       "<div>\n",
       "<style scoped>\n",
       "    .dataframe tbody tr th:only-of-type {\n",
       "        vertical-align: middle;\n",
       "    }\n",
       "\n",
       "    .dataframe tbody tr th {\n",
       "        vertical-align: top;\n",
       "    }\n",
       "\n",
       "    .dataframe thead th {\n",
       "        text-align: right;\n",
       "    }\n",
       "</style>\n",
       "<table border=\"1\" class=\"dataframe\">\n",
       "  <thead>\n",
       "    <tr style=\"text-align: right;\">\n",
       "      <th>stroke</th>\n",
       "      <th>0</th>\n",
       "      <th>1</th>\n",
       "    </tr>\n",
       "    <tr>\n",
       "      <th>hypertension</th>\n",
       "      <th></th>\n",
       "      <th></th>\n",
       "    </tr>\n",
       "  </thead>\n",
       "  <tbody>\n",
       "    <tr>\n",
       "      <th>0</th>\n",
       "      <td>0.960321</td>\n",
       "      <td>0.039679</td>\n",
       "    </tr>\n",
       "    <tr>\n",
       "      <th>1</th>\n",
       "      <td>0.867470</td>\n",
       "      <td>0.132530</td>\n",
       "    </tr>\n",
       "  </tbody>\n",
       "</table>\n",
       "</div>"
      ],
      "text/plain": [
       "stroke               0         1\n",
       "hypertension                    \n",
       "0             0.960321  0.039679\n",
       "1             0.867470  0.132530"
      ]
     },
     "execution_count": 332,
     "metadata": {},
     "output_type": "execute_result"
    }
   ],
   "source": [
    "(ctab_hyper_stroke.transpose() / ctab_hyper_stroke.sum(axis=1)).transpose()"
   ]
  },
  {
   "cell_type": "markdown",
   "metadata": {},
   "source": [
    "<h3>heart disease and stroke"
   ]
  },
  {
   "cell_type": "code",
   "execution_count": 334,
   "metadata": {},
   "outputs": [
    {
     "data": {
      "text/html": [
       "<div>\n",
       "<style scoped>\n",
       "    .dataframe tbody tr th:only-of-type {\n",
       "        vertical-align: middle;\n",
       "    }\n",
       "\n",
       "    .dataframe tbody tr th {\n",
       "        vertical-align: top;\n",
       "    }\n",
       "\n",
       "    .dataframe thead th {\n",
       "        text-align: right;\n",
       "    }\n",
       "</style>\n",
       "<table border=\"1\" class=\"dataframe\">\n",
       "  <thead>\n",
       "    <tr style=\"text-align: right;\">\n",
       "      <th>stroke</th>\n",
       "      <th>0</th>\n",
       "      <th>1</th>\n",
       "    </tr>\n",
       "    <tr>\n",
       "      <th>heart_disease</th>\n",
       "      <th></th>\n",
       "      <th></th>\n",
       "    </tr>\n",
       "  </thead>\n",
       "  <tbody>\n",
       "    <tr>\n",
       "      <th>0</th>\n",
       "      <td>4632</td>\n",
       "      <td>202</td>\n",
       "    </tr>\n",
       "    <tr>\n",
       "      <th>1</th>\n",
       "      <td>229</td>\n",
       "      <td>47</td>\n",
       "    </tr>\n",
       "  </tbody>\n",
       "</table>\n",
       "</div>"
      ],
      "text/plain": [
       "stroke            0    1\n",
       "heart_disease           \n",
       "0              4632  202\n",
       "1               229   47"
      ]
     },
     "execution_count": 334,
     "metadata": {},
     "output_type": "execute_result"
    }
   ],
   "source": [
    "ctab_heart_disease_stroke = pd.crosstab(df.heart_disease,df.stroke)\n",
    "ctab_heart_disease_stroke"
   ]
  },
  {
   "cell_type": "code",
   "execution_count": 335,
   "metadata": {},
   "outputs": [
    {
     "data": {
      "text/html": [
       "<div>\n",
       "<style scoped>\n",
       "    .dataframe tbody tr th:only-of-type {\n",
       "        vertical-align: middle;\n",
       "    }\n",
       "\n",
       "    .dataframe tbody tr th {\n",
       "        vertical-align: top;\n",
       "    }\n",
       "\n",
       "    .dataframe thead th {\n",
       "        text-align: right;\n",
       "    }\n",
       "</style>\n",
       "<table border=\"1\" class=\"dataframe\">\n",
       "  <thead>\n",
       "    <tr style=\"text-align: right;\">\n",
       "      <th>stroke</th>\n",
       "      <th>0</th>\n",
       "      <th>1</th>\n",
       "    </tr>\n",
       "    <tr>\n",
       "      <th>heart_disease</th>\n",
       "      <th></th>\n",
       "      <th></th>\n",
       "    </tr>\n",
       "  </thead>\n",
       "  <tbody>\n",
       "    <tr>\n",
       "      <th>0</th>\n",
       "      <td>0.958213</td>\n",
       "      <td>0.041787</td>\n",
       "    </tr>\n",
       "    <tr>\n",
       "      <th>1</th>\n",
       "      <td>0.829710</td>\n",
       "      <td>0.170290</td>\n",
       "    </tr>\n",
       "  </tbody>\n",
       "</table>\n",
       "</div>"
      ],
      "text/plain": [
       "stroke                0         1\n",
       "heart_disease                    \n",
       "0              0.958213  0.041787\n",
       "1              0.829710  0.170290"
      ]
     },
     "execution_count": 335,
     "metadata": {},
     "output_type": "execute_result"
    }
   ],
   "source": [
    "(ctab_heart_disease_stroke.transpose() / ctab_heart_disease_stroke.sum(axis=1)).transpose()"
   ]
  },
  {
   "cell_type": "markdown",
   "metadata": {},
   "source": [
    "<h3>Glucose and stroke"
   ]
  },
  {
   "cell_type": "code",
   "execution_count": 337,
   "metadata": {},
   "outputs": [
    {
     "data": {
      "text/html": [
       "<div>\n",
       "<style scoped>\n",
       "    .dataframe tbody tr th:only-of-type {\n",
       "        vertical-align: middle;\n",
       "    }\n",
       "\n",
       "    .dataframe tbody tr th {\n",
       "        vertical-align: top;\n",
       "    }\n",
       "\n",
       "    .dataframe thead th {\n",
       "        text-align: right;\n",
       "    }\n",
       "</style>\n",
       "<table border=\"1\" class=\"dataframe\">\n",
       "  <thead>\n",
       "    <tr style=\"text-align: right;\">\n",
       "      <th>stroke</th>\n",
       "      <th>0</th>\n",
       "      <th>1</th>\n",
       "    </tr>\n",
       "    <tr>\n",
       "      <th>avg_glucose_level_bin</th>\n",
       "      <th></th>\n",
       "      <th></th>\n",
       "    </tr>\n",
       "  </thead>\n",
       "  <tbody>\n",
       "    <tr>\n",
       "      <th>(55.0, 65.8]</th>\n",
       "      <td>492</td>\n",
       "      <td>19</td>\n",
       "    </tr>\n",
       "    <tr>\n",
       "      <th>(65.8, 73.8]</th>\n",
       "      <td>490</td>\n",
       "      <td>22</td>\n",
       "    </tr>\n",
       "    <tr>\n",
       "      <th>(73.8, 80.0]</th>\n",
       "      <td>488</td>\n",
       "      <td>22</td>\n",
       "    </tr>\n",
       "    <tr>\n",
       "      <th>(80.0, 85.6]</th>\n",
       "      <td>498</td>\n",
       "      <td>14</td>\n",
       "    </tr>\n",
       "    <tr>\n",
       "      <th>(85.6, 91.9]</th>\n",
       "      <td>494</td>\n",
       "      <td>16</td>\n",
       "    </tr>\n",
       "    <tr>\n",
       "      <th>(91.9, 98.9]</th>\n",
       "      <td>493</td>\n",
       "      <td>18</td>\n",
       "    </tr>\n",
       "    <tr>\n",
       "      <th>(98.9, 108.5]</th>\n",
       "      <td>492</td>\n",
       "      <td>19</td>\n",
       "    </tr>\n",
       "    <tr>\n",
       "      <th>(108.5, 124.2]</th>\n",
       "      <td>493</td>\n",
       "      <td>19</td>\n",
       "    </tr>\n",
       "    <tr>\n",
       "      <th>(124.2, 192.2]</th>\n",
       "      <td>478</td>\n",
       "      <td>32</td>\n",
       "    </tr>\n",
       "    <tr>\n",
       "      <th>(192.2, 271.7]</th>\n",
       "      <td>443</td>\n",
       "      <td>68</td>\n",
       "    </tr>\n",
       "  </tbody>\n",
       "</table>\n",
       "</div>"
      ],
      "text/plain": [
       "stroke                   0   1\n",
       "avg_glucose_level_bin         \n",
       "(55.0, 65.8]           492  19\n",
       "(65.8, 73.8]           490  22\n",
       "(73.8, 80.0]           488  22\n",
       "(80.0, 85.6]           498  14\n",
       "(85.6, 91.9]           494  16\n",
       "(91.9, 98.9]           493  18\n",
       "(98.9, 108.5]          492  19\n",
       "(108.5, 124.2]         493  19\n",
       "(124.2, 192.2]         478  32\n",
       "(192.2, 271.7]         443  68"
      ]
     },
     "execution_count": 337,
     "metadata": {},
     "output_type": "execute_result"
    }
   ],
   "source": [
    "ctab_glucose_disease_stroke = pd.crosstab(df.avg_glucose_level_bin,df.stroke)\n",
    "ctab_glucose_disease_stroke"
   ]
  },
  {
   "cell_type": "code",
   "execution_count": 338,
   "metadata": {},
   "outputs": [
    {
     "data": {
      "text/html": [
       "<div>\n",
       "<style scoped>\n",
       "    .dataframe tbody tr th:only-of-type {\n",
       "        vertical-align: middle;\n",
       "    }\n",
       "\n",
       "    .dataframe tbody tr th {\n",
       "        vertical-align: top;\n",
       "    }\n",
       "\n",
       "    .dataframe thead th {\n",
       "        text-align: right;\n",
       "    }\n",
       "</style>\n",
       "<table border=\"1\" class=\"dataframe\">\n",
       "  <thead>\n",
       "    <tr style=\"text-align: right;\">\n",
       "      <th>stroke</th>\n",
       "      <th>0</th>\n",
       "      <th>1</th>\n",
       "    </tr>\n",
       "    <tr>\n",
       "      <th>avg_glucose_level_bin</th>\n",
       "      <th></th>\n",
       "      <th></th>\n",
       "    </tr>\n",
       "  </thead>\n",
       "  <tbody>\n",
       "    <tr>\n",
       "      <th>(55.0, 65.8]</th>\n",
       "      <td>0.962818</td>\n",
       "      <td>0.037182</td>\n",
       "    </tr>\n",
       "    <tr>\n",
       "      <th>(65.8, 73.8]</th>\n",
       "      <td>0.957031</td>\n",
       "      <td>0.042969</td>\n",
       "    </tr>\n",
       "    <tr>\n",
       "      <th>(73.8, 80.0]</th>\n",
       "      <td>0.956863</td>\n",
       "      <td>0.043137</td>\n",
       "    </tr>\n",
       "    <tr>\n",
       "      <th>(80.0, 85.6]</th>\n",
       "      <td>0.972656</td>\n",
       "      <td>0.027344</td>\n",
       "    </tr>\n",
       "    <tr>\n",
       "      <th>(85.6, 91.9]</th>\n",
       "      <td>0.968627</td>\n",
       "      <td>0.031373</td>\n",
       "    </tr>\n",
       "    <tr>\n",
       "      <th>(91.9, 98.9]</th>\n",
       "      <td>0.964775</td>\n",
       "      <td>0.035225</td>\n",
       "    </tr>\n",
       "    <tr>\n",
       "      <th>(98.9, 108.5]</th>\n",
       "      <td>0.962818</td>\n",
       "      <td>0.037182</td>\n",
       "    </tr>\n",
       "    <tr>\n",
       "      <th>(108.5, 124.2]</th>\n",
       "      <td>0.962891</td>\n",
       "      <td>0.037109</td>\n",
       "    </tr>\n",
       "    <tr>\n",
       "      <th>(124.2, 192.2]</th>\n",
       "      <td>0.937255</td>\n",
       "      <td>0.062745</td>\n",
       "    </tr>\n",
       "    <tr>\n",
       "      <th>(192.2, 271.7]</th>\n",
       "      <td>0.866928</td>\n",
       "      <td>0.133072</td>\n",
       "    </tr>\n",
       "  </tbody>\n",
       "</table>\n",
       "</div>"
      ],
      "text/plain": [
       "stroke                        0         1\n",
       "avg_glucose_level_bin                    \n",
       "(55.0, 65.8]           0.962818  0.037182\n",
       "(65.8, 73.8]           0.957031  0.042969\n",
       "(73.8, 80.0]           0.956863  0.043137\n",
       "(80.0, 85.6]           0.972656  0.027344\n",
       "(85.6, 91.9]           0.968627  0.031373\n",
       "(91.9, 98.9]           0.964775  0.035225\n",
       "(98.9, 108.5]          0.962818  0.037182\n",
       "(108.5, 124.2]         0.962891  0.037109\n",
       "(124.2, 192.2]         0.937255  0.062745\n",
       "(192.2, 271.7]         0.866928  0.133072"
      ]
     },
     "execution_count": 338,
     "metadata": {},
     "output_type": "execute_result"
    }
   ],
   "source": [
    "(ctab_glucose_disease_stroke.transpose() / ctab_glucose_disease_stroke.sum(axis=1)).transpose()"
   ]
  },
  {
   "cell_type": "code",
   "execution_count": null,
   "metadata": {},
   "outputs": [],
   "source": []
  },
  {
   "cell_type": "code",
   "execution_count": null,
   "metadata": {},
   "outputs": [],
   "source": []
  }
 ],
 "metadata": {
  "kernelspec": {
   "display_name": "Python 3",
   "language": "python",
   "name": "python3"
  },
  "language_info": {
   "codemirror_mode": {
    "name": "ipython",
    "version": 3
   },
   "file_extension": ".py",
   "mimetype": "text/x-python",
   "name": "python",
   "nbconvert_exporter": "python",
   "pygments_lexer": "ipython3",
   "version": "3.8.5"
  }
 },
 "nbformat": 4,
 "nbformat_minor": 4
}
