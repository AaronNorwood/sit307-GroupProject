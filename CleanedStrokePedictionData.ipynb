{
 "cells": [
  {
   "cell_type": "markdown",
   "metadata": {},
   "source": [
    "# Imported libraries"
   ]
  },
  {
   "cell_type": "code",
   "execution_count": 100,
   "metadata": {},
   "outputs": [],
   "source": [
    "import matplotlib.pyplot as plt\n",
    "import numpy as np\n",
    "import pandas as pd\n",
    "import seaborn as sns\n",
    "import math\n",
    "from scipy import stats\n",
    "%matplotlib inline"
   ]
  },
  {
   "cell_type": "markdown",
   "metadata": {},
   "source": [
    "<h3> Read in the data, store if dataframe"
   ]
  },
  {
   "cell_type": "code",
   "execution_count": 86,
   "metadata": {},
   "outputs": [],
   "source": [
    "df = pd.read_csv('./data/healthcare-dataset-stroke-data.csv')"
   ]
  },
  {
   "cell_type": "markdown",
   "metadata": {
    "tags": []
   },
   "source": [
    "# Tidying up the data\n",
    "\n",
    "Implementing consistent capitalization and replacing underscores  spaces with hyphens in the data."
   ]
  },
  {
   "cell_type": "code",
   "execution_count": 87,
   "metadata": {},
   "outputs": [],
   "source": [
    "##convert gender to lowercase\n",
    "df['gender'] = df['gender'].apply(lambda x: x.lower())\n",
    "\n",
    "##convert work_type to lowercase ensure consistent spacing \n",
    "df['work_type'] = df['work_type'].apply(lambda x: x.lower().replace('_','-'))\n",
    "\n",
    "##convert residence_type to lowercase\n",
    "df.rename(columns={'Residence_type':'residence_type'}, inplace=True)\n",
    "df['residence_type'] = df['residence_type'].apply(lambda x: x.lower())\n",
    "\n",
    "##convert smoking_status to lowercase ensure consistent spacing \n",
    "df['smoking_status'] = df['smoking_status'].apply(lambda x: x.lower().replace(' ', '-'))"
   ]
  },
  {
   "cell_type": "markdown",
   "metadata": {},
   "source": [
    "<h4> Indexes of the outliers with a bmi above 60 for verification purposes"
   ]
  },
  {
   "cell_type": "code",
   "execution_count": 88,
   "metadata": {},
   "outputs": [
    {
     "name": "stdout",
     "output_type": "stream",
     "text": [
      "60.9,64.8,60.2,71.9,78.0,66.8,97.6,63.3,61.2,61.6,64.4,92.0,60.9,"
     ]
    }
   ],
   "source": [
    "indexes = [270, 358, 466, 544, 928, 1559, 2128, 2764, 2840, 3825, 4188, 4209, 4838]\n",
    "for index, i in enumerate(df['bmi']):\n",
    "    if index in indexes:\n",
    "        print(i, end=',')"
   ]
  },
  {
   "cell_type": "markdown",
   "metadata": {},
   "source": [
    "<h4> Cap the outliers at a maximum bmi of 60"
   ]
  },
  {
   "cell_type": "code",
   "execution_count": 89,
   "metadata": {},
   "outputs": [],
   "source": [
    "df['bmi'] = df['bmi'].apply(lambda bmi_value: bmi_value if 12 < bmi_value < 60 else np.nan)"
   ]
  },
  {
   "cell_type": "markdown",
   "metadata": {},
   "source": [
    "<h4>Preliminary work for binning"
   ]
  },
  {
   "cell_type": "code",
   "execution_count": 90,
   "metadata": {},
   "outputs": [
    {
     "name": "stdout",
     "output_type": "stream",
     "text": [
      "The max value in age is : 82.0\n",
      "Total number of nulls in age is: 0\n",
      "Total number of NAs in age is : 0\n"
     ]
    }
   ],
   "source": [
    "##max age of 82, max bin get be set accordingly \n",
    "print(\"The max value in age is : \" + str(df['age'].max()))\n",
    "print(\"Total number of nulls in age is: \" + str(df['age'].isnull().sum())) ##check for null\n",
    "print(\"Total number of NAs in age is : \" + str(df['age'].isna().sum())) ##check for NAs"
   ]
  },
  {
   "cell_type": "markdown",
   "metadata": {},
   "source": [
    "<h2>Unknown_smoking status breakdown"
   ]
  },
  {
   "cell_type": "code",
   "execution_count": 91,
   "metadata": {},
   "outputs": [
    {
     "name": "stdout",
     "output_type": "stream",
     "text": [
      "\n",
      "The percent of entries with an unknown smoking status is: 30.2153% or 1544 entries\n"
     ]
    }
   ],
   "source": [
    "##loop to find the number of unknown smoking entries\n",
    "unknown_count = 0\n",
    "##store the indexes of the unknown smoking status entries in case it's needed later\n",
    "unknown_indexes = []\n",
    "for index, i in enumerate(df['smoking_status']):\n",
    "    if(i.lower() == 'unknown'):\n",
    "        #get index and value \n",
    "        #print(index, i)\n",
    "        unknown_indexes.append(index)\n",
    "        unknown_count+=1\n",
    "##get percentage of unknown\n",
    "unknown_percent = unknown_count/len(df) * 100\n",
    "unknown_percent = round(unknown_percent,4)\n",
    "print(\"\\nThe percent of entries with an unknown smoking status is: \" + str(unknown_percent) + \"% or \" +str(unknown_count) + \" entries\")"
   ]
  },
  {
   "cell_type": "markdown",
   "metadata": {},
   "source": [
    "<h2>Checking for non-binary values</h2>\n",
    "<P>Checked in heart_disease, hypertension, ever_married and stroke. Also converts ever_married to 0/1 instead of yes/no<P>"
   ]
  },
  {
   "cell_type": "code",
   "execution_count": 92,
   "metadata": {},
   "outputs": [
    {
     "name": "stdout",
     "output_type": "stream",
     "text": [
      "No non-binary values found in heart_disease\n",
      "No non-binary values found in hypertension\n",
      "No non-binary values found in ever_married\n",
      "No non-binary values found in stroke\n"
     ]
    }
   ],
   "source": [
    "##check for any non-binary values in heart_disease\n",
    "non_bin_heart_count = 0\n",
    "for val in df['heart_disease']:\n",
    "    if(val != 1 and val != 0):\n",
    "        print(val)\n",
    "if(non_bin_heart_count == 0):\n",
    "    print(\"No non-binary values found in heart_disease\")\n",
    "\n",
    "##check for any non-binary values in hypertension\n",
    "non_bin_hypt_count = 0\n",
    "for val in df['hypertension']:\n",
    "    if(val != 1 and val != 0):\n",
    "        print(val)\n",
    "if(non_bin_hypt_count == 0):\n",
    "    print(\"No non-binary values found in hypertension\")\n",
    "    \n",
    "##converts ever_married to 0/1 if not already done \n",
    "if(isinstance(df['ever_married'][0],str)):\n",
    "    df['ever_married'] = df['ever_married'].str.lower().map({'yes': 1, 'no': 0})\n",
    "\n",
    "##checks for non-binary values in ever_married\n",
    "non_bin_married_count = 0\n",
    "for val in df['ever_married']:\n",
    "    if(val != 1 and val != 0):\n",
    "        print(val)\n",
    "if(non_bin_married_count == 0):\n",
    "    print(\"No non-binary values found in ever_married\")\n",
    "    \n",
    "##check for any non-binary values in stroke\n",
    "non_bin_stroke_count = 0\n",
    "for val in df['stroke']:\n",
    "    if(val != 1 and val != 0):\n",
    "        print(val)\n",
    "if(non_bin_stroke_count == 0):\n",
    "    print(\"No non-binary values found in stroke\")"
   ]
  },
  {
   "cell_type": "markdown",
   "metadata": {},
   "source": [
    "# Impute missing BMI values\n",
    "<P>Replace missing BMI values with the average BMI found in rows with the same age and gender<P>"
   ]
  },
  {
   "cell_type": "code",
   "execution_count": 93,
   "metadata": {},
   "outputs": [
    {
     "data": {
      "text/plain": [
       "id                     0\n",
       "gender                 0\n",
       "age                    0\n",
       "hypertension           0\n",
       "heart_disease          0\n",
       "ever_married           0\n",
       "work_type              0\n",
       "residence_type         0\n",
       "avg_glucose_level      0\n",
       "bmi                  218\n",
       "smoking_status         0\n",
       "stroke                 0\n",
       "dtype: int64"
      ]
     },
     "execution_count": 93,
     "metadata": {},
     "output_type": "execute_result"
    }
   ],
   "source": [
    "##get number of nulls in df\n",
    "df.isnull().sum()"
   ]
  },
  {
   "cell_type": "code",
   "execution_count": 94,
   "metadata": {},
   "outputs": [],
   "source": [
    "df['age'] = df['age'].apply(lambda x : round(x))\n",
    "\n",
    "m_df = df[df['gender'] == 'male']\n",
    "f_df = df[df['gender'] == 'female']\n",
    "\n",
    "m_bmi_avg = m_df.groupby('age')['bmi'].mean()\n",
    "f_bmi_avg = f_df.groupby('age')['bmi'].mean()\n",
    "##round to one to fit with other bmi values\n",
    "m_bmi_avg = round(m_bmi_avg,1)\n",
    "f_bmi_avg = round(f_bmi_avg,1)\n",
    "\n",
    "missing_vals = df[df.isnull().any(axis = 1)]\n",
    "\n",
    "for index, row in missing_vals.iterrows():\n",
    "    if row['gender'] == 'male':\n",
    "        df.loc[index,['bmi']] = m_bmi_avg[row['age']]\n",
    "    else:\n",
    "        df.loc[index,['bmi']] = f_bmi_avg[row['age']]\n"
   ]
  },
  {
   "cell_type": "code",
   "execution_count": 81,
   "metadata": {},
   "outputs": [
    {
     "data": {
      "text/plain": [
       "id                   0\n",
       "gender               0\n",
       "age                  0\n",
       "hypertension         0\n",
       "heart_disease        0\n",
       "ever_married         0\n",
       "work_type            0\n",
       "residence_type       0\n",
       "avg_glucose_level    0\n",
       "bmi                  0\n",
       "smoking_status       0\n",
       "stroke               0\n",
       "dtype: int64"
      ]
     },
     "execution_count": 81,
     "metadata": {},
     "output_type": "execute_result"
    }
   ],
   "source": [
    "df.isnull().sum()"
   ]
  },
  {
   "cell_type": "markdown",
   "metadata": {},
   "source": [
    "<h2>Example of imputed values using the outliers above 60</h2>"
   ]
  },
  {
   "cell_type": "code",
   "execution_count": 95,
   "metadata": {},
   "outputs": [
    {
     "name": "stdout",
     "output_type": "stream",
     "text": [
      "32.8,33.5,29.1,32.5,27.9,32.3,28.0,26.2,31.5,31.5,27.9,31.8,31.0,"
     ]
    }
   ],
   "source": [
    "indexes = [270, 358, 466, 544, 928, 1559, 2128, 2764, 2840, 3825, 4188, 4209, 4838]\n",
    "for index, i in enumerate(df['bmi']):\n",
    "    if index in indexes:\n",
    "        print(i, end=',')"
   ]
  },
  {
   "cell_type": "markdown",
   "metadata": {},
   "source": [
    "<h2> Equal-width binning implementation</h2>"
   ]
  },
  {
   "cell_type": "code",
   "execution_count": 96,
   "metadata": {},
   "outputs": [
    {
     "name": "stdout",
     "output_type": "stream",
     "text": [
      "\n",
      "The sum of people in each age bin is: \n",
      "[{'age': '0-10', 'Count': 487}, {'age': '10-20', 'Count': 518}, {'age': '20-30', 'Count': 545}, {'age': '30-40', 'Count': 674}, {'age': '40-50', 'Count': 739}, {'age': '50-60', 'Count': 823}, {'age': '60-70', 'Count': 594}, {'age': '70-80', 'Count': 594}, {'age': '80-90', 'Count': 116}]\n",
      "Percentage in bin: 9.53%\n",
      "Percentage in bin: 10.14%\n",
      "Percentage in bin: 10.67%\n",
      "Percentage in bin: 13.19%\n",
      "Percentage in bin: 14.46%\n",
      "Percentage in bin: 16.11%\n",
      "Percentage in bin: 11.62%\n",
      "Percentage in bin: 11.62%\n",
      "Percentage in bin: 2.27%\n"
     ]
    }
   ],
   "source": [
    "##define labels and bins using equal width binning\n",
    "bins = [0,10,20,30,40,50,60,70,80,90]\n",
    "labels=['0-10','10-20','20-30','30-40','40-50','50-60','60-70','70-80','80-90']\n",
    "#replace all age values with their corresponding bin\n",
    "df['age'] = pd.cut(df['age'], bins=bins,labels=labels)\n",
    "\n",
    "##print the counts for each bin\n",
    "age_bins = df.groupby('age')['age'].count().reset_index(name='Count').to_dict(orient='records') ##gets count by bin\n",
    "print(\"\\nThe sum of people in each age bin is: \\n\" + str(age_bins))\n",
    "\n",
    "##get percentage per bin\n",
    "for d in age_bins:\n",
    "    for k,v in d.items():\n",
    "        if(type(v) == int):\n",
    "            percent = round(v/len(df) * 100,2)\n",
    "            print(\"Percentage in bin: \" +  str(percent) + \"%\")"
   ]
  },
  {
   "cell_type": "markdown",
   "metadata": {},
   "source": [
    "<h2> Equal-size binning implementation</h2>\n",
    "    <P>Uncomment if you want to use, will not work if equal-width binning has already been implemented\n",
    "    if you've already applied equal-width, then read in the data-frame again<P>"
   ]
  },
  {
   "cell_type": "code",
   "execution_count": 23,
   "metadata": {},
   "outputs": [
    {
     "data": {
      "text/plain": [
       "'num_bins = 8\\ndf = pd.read_csv(\"data//healthcare-dataset-stroke-data.csv\")\\n\\ndf[\\'age\\'] = pd.qcut(df[\\'age\\'], q = num_bins)\\nprint(\"total entires in each bin is : \", df[\\'age\\'].value_counts())\\nprint(\"\\npercentage in each bin is: \", df[\\'age\\'].value_counts()/len(df)*100)'"
      ]
     },
     "execution_count": 23,
     "metadata": {},
     "output_type": "execute_result"
    }
   ],
   "source": [
    "'''num_bins = 8\n",
    "df = pd.read_csv(\"data//healthcare-dataset-stroke-data.csv\")\n",
    "\n",
    "df['age'] = pd.qcut(df['age'], q = num_bins)\n",
    "print(\"total entires in each bin is : \", df['age'].value_counts())\n",
    "print(\"\\npercentage in each bin is: \", df['age'].value_counts()/len(df)*100)'''"
   ]
  },
  {
   "cell_type": "markdown",
   "metadata": {},
   "source": [
    "<h1>Some information about outliers</h1>\n",
    "<P>Any outliers after binning the ages will be found only in BMI (the most extreme outliers have already been dealt with) and avg_glucose_level. Both columns have a large amount of outliers, the exact number and percentages of which can be seen below. We have not yet done anything with these outliers, simply identified them<P>"
   ]
  },
  {
   "cell_type": "markdown",
   "metadata": {},
   "source": [
    "<h2>Graphing the outliers"
   ]
  },
  {
   "cell_type": "code",
   "execution_count": 99,
   "metadata": {},
   "outputs": [
    {
     "data": {
      "text/plain": [
       "<AxesSubplot:xlabel='bmi'>"
      ]
     },
     "execution_count": 99,
     "metadata": {},
     "output_type": "execute_result"
    },
    {
     "data": {
      "image/png": "[encoded data removed]",
      "text/plain": [
       "<Figure size 432x288 with 1 Axes>"
      ]
     },
     "metadata": {
      "needs_background": "light"
     },
     "output_type": "display_data"
    }
   ],
   "source": [
    "sns.boxplot(x=df['bmi'])"
   ]
  },
  {
   "cell_type": "code",
   "execution_count": 98,
   "metadata": {},
   "outputs": [
    {
     "data": {
      "text/plain": [
       "<AxesSubplot:xlabel='avg_glucose_level'>"
      ]
     },
     "execution_count": 98,
     "metadata": {},
     "output_type": "execute_result"
    },
    {
     "data": {
      "image/png": "[encoded data removed]",
      "text/plain": [
       "<Figure size 432x288 with 1 Axes>"
      ]
     },
     "metadata": {
      "needs_background": "light"
     },
     "output_type": "display_data"
    }
   ],
   "source": [
    "sns.boxplot(x=df['avg_glucose_level'])"
   ]
  },
  {
   "cell_type": "markdown",
   "metadata": {},
   "source": [
    "<h2>Z-scores to find outliers"
   ]
  },
  {
   "cell_type": "markdown",
   "metadata": {},
   "source": [
    "<h4>Add in a z-score column to the df"
   ]
  },
  {
   "cell_type": "code",
   "execution_count": 136,
   "metadata": {},
   "outputs": [
    {
     "name": "stdout",
     "output_type": "stream",
     "text": [
      "number of outliers found with z-score for bmi is : 51 which is 1.0%\n",
      "number of outliers found with z-score for bmi is : 49 which is 0.96%\n"
     ]
    }
   ],
   "source": [
    "##adds in z-score column to df for bmi and glucose level\n",
    "cols = ['bmi','avg_glucose_level']\n",
    "for col in cols:\n",
    "    col_zscore = col + '_zscore'\n",
    "    df[col_zscore] = (df[col] - df[col].mean())/df[col].std(ddof=0)\n",
    "    \n",
    "df.head()\n",
    "##count number of outliers\n",
    "\n",
    "\n",
    "outliers_bmi_z = np.where((df['bmi_zscore']) >=3)\n",
    "outliers_glu_z = np.where((df['avg_glucose_level_zscore']) >=3)\n",
    "\n",
    "outliers_bmi_z = 0\n",
    "for i in df['bmi_zscore']:\n",
    "    if(i >=3):\n",
    "        outliers_bmi_z += 1\n",
    "\n",
    "outliers_glu_z = 0\n",
    "for i in df['avg_glucose_level_zscore']:\n",
    "    if(i >=3):\n",
    "        outliers_glu_z += 1\n",
    "        \n",
    "##get outliers as percentage\n",
    "z_bmi_percent = outliers_bmi_z/len(df)*100\n",
    "z_glu_percent = outliers_glu_z/len(df)*100\n",
    "\n",
    "z_bmi_percent = round(z_bmi_percent,2)\n",
    "z_glu_percent = round(z_glu_percent,2)\n",
    "\n",
    "print(\"number of outliers found with z-score for bmi is : \"+ str(outliers_bmi_z) + \" which is \" +str(z_bmi_percent)+\"%\")\n",
    "print(\"number of outliers found with z-score for bmi is : \"+ str(outliers_glu_z) + \" which is \" +str(z_glu_percent)+\"%\")\n",
    "\n",
    "##Uncomment below to get indexes of outliers if needed\n",
    "#print(\"Indexes where z-score is greater than 3 for bmi below:\\n\")\n",
    "#print(np.where((df['bmi_zscore']) >=3))\n",
    "\n",
    "#print(\"\\n\\nIndexes where z-score is greater than 3 for glucose below:\\n\")\n",
    "#print(np.where((df['avg_glucose_level_zscore']) >=3))"
   ]
  },
  {
   "cell_type": "markdown",
   "metadata": {},
   "source": [
    "<h2>IRQ to find outliers"
   ]
  },
  {
   "cell_type": "markdown",
   "metadata": {},
   "source": [
    "<h4>Avg_glucose_level"
   ]
  },
  {
   "cell_type": "code",
   "execution_count": 130,
   "metadata": {},
   "outputs": [
    {
     "name": "stdout",
     "output_type": "stream",
     "text": [
      "number of outliers found with iqr for glucose is : 627 which is 12.27%\n"
     ]
    }
   ],
   "source": [
    "##checking for outliers in avg_glucose_level using iqr\n",
    "q1_glu = df['avg_glucose_level'].quantile(0.25)\n",
    "q3_glu = df['avg_glucose_level'].quantile(0.75)\n",
    "iqr_glu = q3_glu-q1_glu\n",
    "outliers_glu = (df['avg_glucose_level'] < (q1_glu - 1.5 * iqr_glu)) |(df['avg_glucose_level'] > (q3_glu + 1.5 * iqr_glu))\n",
    "outliers_glu_count = 0\n",
    "for i in outliers_glu:\n",
    "    if(i != False):\n",
    "        outliers_glu_count += 1\n",
    "        \n",
    "iqr_glu_percent = outliers_glu_count/len(df)*100\n",
    "iqr_glu_percent = round(iqr_glu_percent,2)         \n",
    "print(\"number of outliers found with iqr for glucose is : \"+ str(outliers_glu_count) + \" which is \" +str(iqr_glu_percent)+\"%\")\n",
    "\n",
    "##uncomment to get the indexes of the outliers if needed\n",
    "#print(\"\\nIndexes where outliers were detected: \")\n",
    "#print(np.where(outliers_glu != False))"
   ]
  },
  {
   "cell_type": "markdown",
   "metadata": {},
   "source": [
    "<h4>BMI"
   ]
  },
  {
   "cell_type": "code",
   "execution_count": 131,
   "metadata": {},
   "outputs": [
    {
     "name": "stdout",
     "output_type": "stream",
     "text": [
      "number of outliers found with iqr for bmi is : 110 which is 2.15%\n"
     ]
    }
   ],
   "source": [
    "##checking for outliers in bmi using iqr\n",
    "q1_bmi = df['bmi'].quantile(0.25)\n",
    "q3_bmi = df['bmi'].quantile(0.75)\n",
    "iqr_bmi = q3_bmi-q1_bmi\n",
    "outliers_bmi = (df['bmi'] < (q1_bmi - 1.5 * iqr_bmi)) |(df['bmi'] > (q3_bmi + 1.5 * iqr_bmi))\n",
    "\n",
    "##count number of outliers\n",
    "outliers_bmi_count = 0\n",
    "for i in outliers_bmi:\n",
    "    if(i != False):\n",
    "        outliers_bmi_count += 1\n",
    "        \n",
    "##get outliers as percentage       \n",
    "iqr_bmi_percent = outliers_bmi_count/len(df)*100\n",
    "iqr_bmi_percent = round(iqr_bmi_percent,2) \n",
    "print(\"number of outliers found with iqr for bmi is : \"+ str(outliers_bmi_count) + \" which is \" +str(iqr_bmi_percent)+\"%\")\n",
    "\n",
    "##uncomment to get the indexes of the outliers if needed\n",
    "#print(\"\\nIndexes where outliers were detected: \")\n",
    "#print(np.where(outliers_bmi != False))"
   ]
  },
  {
   "cell_type": "code",
   "execution_count": null,
   "metadata": {},
   "outputs": [],
   "source": []
  }
 ],
 "metadata": {
  "kernelspec": {
   "display_name": "Python 3",
   "language": "python",
   "name": "python3"
  },
  "language_info": {
   "codemirror_mode": {
    "name": "ipython",
    "version": 3
   },
   "file_extension": ".py",
   "mimetype": "text/x-python",
   "name": "python",
   "nbconvert_exporter": "python",
   "pygments_lexer": "ipython3",
   "version": "3.8.5"
  }
 },
 "nbformat": 4,
 "nbformat_minor": 4
}
