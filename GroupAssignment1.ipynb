{
 "cells": [
  {
   "cell_type": "code",
   "execution_count": 138,
   "metadata": {},
   "outputs": [
    {
     "name": "stdout",
     "output_type": "stream",
     "text": [
      "The max value in age is : 82.0\n",
      "Total number of nulls in age is: 0\n",
      "Total number of NAs in age is : 0\n",
      "\n",
      "The sum of people in each age bin is: \n",
      "[{'age': '0-10', 'Count': 507}, {'age': '10-20', 'Count': 518}, {'age': '20-30', 'Count': 545}, {'age': '30-40', 'Count': 674}, {'age': '40-50', 'Count': 739}, {'age': '50-60', 'Count': 823}, {'age': '60-70', 'Count': 594}, {'age': '70-80', 'Count': 594}, {'age': '80-90', 'Count': 116}]\n",
      "Percentage in bin: 9.92%\n",
      "Percentage in bin: 10.14%\n",
      "Percentage in bin: 10.67%\n",
      "Percentage in bin: 13.19%\n",
      "Percentage in bin: 14.46%\n",
      "Percentage in bin: 16.11%\n",
      "Percentage in bin: 11.62%\n",
      "Percentage in bin: 11.62%\n",
      "Percentage in bin: 2.27%\n",
      "\n",
      "The percent of entries with an unknown smoking status is: 30.2153% or 1544 entries\n"
     ]
    }
   ],
   "source": [
    "import pandas as pd\n",
    "import numpy as np\n",
    "df = pd.read_csv(\"data//healthcare-dataset-stroke-data.csv\")\n",
    "\n",
    "##max age of 82, max bin get be set accordingly \n",
    "print(\"The max value in age is : \" + str(df['age'].max()))\n",
    "print(\"Total number of nulls in age is: \" + str(df['age'].isnull().sum())) ##check for null\n",
    "print(\"Total number of NAs in age is : \" + str(df['age'].isna().sum())) ##check for NAs\n",
    "\n",
    "##define labels and bins using equal width binning\n",
    "bins = [0,10,20,30,40,50,60,70,80,90]\n",
    "labels=['0-10','10-20','20-30','30-40','40-50','50-60','60-70','70-80','80-90']\n",
    "#replace all age values with their corresponding bin\n",
    "df['age'] = pd.cut(df['age'], bins=bins,labels=labels)\n",
    "\n",
    "\n",
    "##print the counts for each bin\n",
    "age_bins = df.groupby('age')['age'].count().reset_index(name='Count').to_dict(orient='records') ##gets count by bin\n",
    "print(\"\\nThe sum of people in each age bin is: \\n\" + str(age_bins))\n",
    "\n",
    "##get percentage per bin\n",
    "for d in age_bins:\n",
    "    for k,v in d.items():\n",
    "        if(type(v) == int):\n",
    "            percent = round(v/len(df) * 100,2)\n",
    "            print(\"Percentage in bin: \" +  str(percent) + \"%\")\n",
    "            \n",
    "##loop to find the number of unknown smoking entries\n",
    "unknown_count = 0\n",
    "##store the indexes of the unknown smoking status entries in case it's needed later\n",
    "unknown_indexes = []\n",
    "for index, i in enumerate(df['smoking_status']):\n",
    "    if(i.lower() == 'unknown'):\n",
    "        #get index and value \n",
    "        #print(index, i)\n",
    "        unknown_indexes.append(index)\n",
    "        unknown_count+=1\n",
    "##get percentage of unknown\n",
    "unknown_percent = unknown_count/len(df) * 100\n",
    "unknown_percent = round(unknown_percent,4)\n",
    "print(\"\\nThe percent of entries with an unknown smoking status is: \" + str(unknown_percent) + \"% or \" +str(unknown_count) + \" entries\")"
   ]
  },
  {
   "cell_type": "code",
   "execution_count": 139,
   "metadata": {},
   "outputs": [
    {
     "name": "stdout",
     "output_type": "stream",
     "text": [
      "No non-binary values found in heart_disease\n"
     ]
    }
   ],
   "source": [
    "##check for any non-binary values in heart_disease\n",
    "non_bin_heart_count = 0\n",
    "for val in df['heart_disease']:\n",
    "    if(val != 1 and val != 0):\n",
    "        print(val)\n",
    "if(non_bin_heart_count == 0):\n",
    "    print(\"No non-binary values found in heart_disease\")"
   ]
  },
  {
   "cell_type": "code",
   "execution_count": 140,
   "metadata": {},
   "outputs": [
    {
     "name": "stdout",
     "output_type": "stream",
     "text": [
      "No non-binary values found in hypertension\n"
     ]
    }
   ],
   "source": [
    "##check for any non-binary values in hypertension\n",
    "non_bin_hypt_count = 0\n",
    "for val in df['hypertension']:\n",
    "    if(val != 1 and val != 0):\n",
    "        print(val)\n",
    "if(non_bin_hypt_count == 0):\n",
    "    print(\"No non-binary values found in hypertension\")"
   ]
  },
  {
   "cell_type": "code",
   "execution_count": 141,
   "metadata": {},
   "outputs": [
    {
     "name": "stdout",
     "output_type": "stream",
     "text": [
      "No non-binary values found in ever_married\n"
     ]
    }
   ],
   "source": [
    "##converts ever_married to 0/1 if not already done \n",
    "if(isinstance(df['ever_married'][0],str)):\n",
    "    df['ever_married'] = df['ever_married'].str.lower().map({'yes': 1, 'no': 0})\n",
    "\n",
    "##checks for non-binary values in ever_married\n",
    "non_bin_married_count = 0\n",
    "for val in df['ever_married']:\n",
    "    if(val != 1 and val != 0):\n",
    "        print(val)\n",
    "if(non_bin_married_count == 0):\n",
    "    print(\"No non-binary values found in ever_married\")"
   ]
  },
  {
   "cell_type": "code",
   "execution_count": 142,
   "metadata": {},
   "outputs": [
    {
     "name": "stdout",
     "output_type": "stream",
     "text": [
      "No non-binary values found in stroke\n"
     ]
    }
   ],
   "source": [
    "##check for any non-binary values in stroke\n",
    "non_bin_stroke_count = 0\n",
    "for val in df['stroke']:\n",
    "    if(val != 1 and val != 0):\n",
    "        print(val)\n",
    "if(non_bin_stroke_count == 0):\n",
    "    print(\"No non-binary values found in stroke\")"
   ]
  },
  {
   "cell_type": "code",
   "execution_count": 39,
   "metadata": {},
   "outputs": [
    {
     "name": "stdout",
     "output_type": "stream",
     "text": [
      "total entires in each bin is :  (36.0, 45.0]     667\n",
      "(25.0, 36.0]     658\n",
      "(13.0, 25.0]     648\n",
      "(0.079, 13.0]    645\n",
      "(53.0, 61.0]     638\n",
      "(45.0, 53.0]     626\n",
      "(61.0, 72.0]     624\n",
      "(72.0, 82.0]     604\n",
      "Name: age, dtype: int64\n",
      "\n",
      "percentage in each bin is:  (36.0, 45.0]     13.052838\n",
      "(25.0, 36.0]     12.876712\n",
      "(13.0, 25.0]     12.681018\n",
      "(0.079, 13.0]    12.622309\n",
      "(53.0, 61.0]     12.485323\n",
      "(45.0, 53.0]     12.250489\n",
      "(61.0, 72.0]     12.211350\n",
      "(72.0, 82.0]     11.819961\n",
      "Name: age, dtype: float64\n"
     ]
    }
   ],
   "source": [
    "##implementation of equal size binning for age using \n",
    "##number of bins can be adjusted, 8 seemed to give the most even distribution without having too many bins\n",
    "num_bins = 8\n",
    "df = pd.read_csv(\"data//healthcare-dataset-stroke-data.csv\")\n",
    "\n",
    "df['age'] = pd.qcut(df['age'], q = num_bins)\n",
    "print(\"total entires in each bin is : \", df['age'].value_counts())\n",
    "print(\"\\npercentage in each bin is: \", df['age'].value_counts()/len(df)*100)"
   ]
  },
  {
   "cell_type": "code",
   "execution_count": 143,
   "metadata": {},
   "outputs": [
    {
     "data": {
      "text/plain": [
       "<AxesSubplot:xlabel='bmi'>"
      ]
     },
     "execution_count": 143,
     "metadata": {},
     "output_type": "execute_result"
    },
    {
     "data": {
      "image/png": "[encoded data removed]",
      "text/plain": [
       "<Figure size 432x288 with 1 Axes>"
      ]
     },
     "metadata": {
      "needs_background": "light"
     },
     "output_type": "display_data"
    }
   ],
   "source": [
    "#visulisation of outliers in bmi\n",
    "import seaborn as sns\n",
    "sns.boxplot(x=df['bmi'])\n"
   ]
  },
  {
   "cell_type": "code",
   "execution_count": 144,
   "metadata": {},
   "outputs": [
    {
     "data": {
      "text/plain": [
       "<AxesSubplot:xlabel='avg_glucose_level'>"
      ]
     },
     "execution_count": 144,
     "metadata": {},
     "output_type": "execute_result"
    },
    {
     "data": {
      "image/png": "[encoded data removed]",
      "text/plain": [
       "<Figure size 432x288 with 1 Axes>"
      ]
     },
     "metadata": {
      "needs_background": "light"
     },
     "output_type": "display_data"
    }
   ],
   "source": [
    "#visulisation of outliers in average glucose\n",
    "sns.boxplot(x=df['avg_glucose_level'])"
   ]
  },
  {
   "cell_type": "code",
   "execution_count": 220,
   "metadata": {},
   "outputs": [
    {
     "name": "stdout",
     "output_type": "stream",
     "text": [
      "Indexes where z-score is greater than 3 for bmi below:\n",
      "\n",
      "(array([ 113,  258,  270,  333,  358,  430,  466,  544,  637,  662,  672,\n",
      "        715,  761,  928, 1061, 1077, 1304, 1322, 1532, 1559, 1564, 1584,\n",
      "       1595, 1660, 1898, 2071, 2081, 2128, 2136, 2330, 2441, 2545, 2555,\n",
      "       2567, 2764, 2815, 2840, 3060, 3243, 3508, 3588, 3606, 3688, 3702,\n",
      "       3825, 3909, 3931, 3980, 4154, 4188, 4209, 4225, 4351, 4407, 4475,\n",
      "       4838, 4906, 4952], dtype=int64),)\n",
      "\n",
      "\n",
      "Indexes where z-score is greater than 3 for glucose below:\n",
      "\n",
      "(array([  33,   45,  122,  123,  135,  193,  196,  220,  243,  256,  303,\n",
      "        330,  386,  552,  755,  785, 1067, 1070, 1113, 1207, 1384, 1436,\n",
      "       1453, 1529, 1626, 2182, 2203, 2293, 2462, 2494, 2633, 2693, 2751,\n",
      "       3088, 3215, 3342, 3393, 4048, 4249, 4283, 4356, 4447, 4457, 4470,\n",
      "       4598, 4711, 4909, 4983, 5034], dtype=int64),)\n"
     ]
    }
   ],
   "source": [
    "from scipy import stats\n",
    "##adds in z-score column to df for bmi and glucose level\n",
    "cols = ['bmi','avg_glucose_level']\n",
    "for col in cols:\n",
    "    col_zscore = col + '_zscore'\n",
    "    df[col_zscore] = (df[col] - df[col].mean())/df[col].std(ddof=0)\n",
    "    \n",
    "print(\"Indexes where z-score is greater than 3 for bmi below:\\n\")\n",
    "print(np.where((df['bmi_zscore']) >=3))\n",
    "\n",
    "print(\"\\n\\nIndexes where z-score is greater than 3 for glucose below:\\n\")\n",
    "print(np.where((df['avg_glucose_level_zscore']) >=3))"
   ]
  },
  {
   "cell_type": "code",
   "execution_count": 235,
   "metadata": {},
   "outputs": [
    {
     "name": "stdout",
     "output_type": "stream",
     "text": [
      "number of outliers found with iqr for bmi is :  110\n",
      "\n",
      "Indexes where outliers were detected: \n",
      "(array([  21,  113,  254,  258,  270,  333,  341,  358,  430,  462,  466,\n",
      "        493,  539,  544,  595,  622,  637,  662,  672,  715,  761,  805,\n",
      "        860,  928, 1003, 1061, 1077, 1239, 1257, 1267, 1304, 1322, 1501,\n",
      "       1532, 1559, 1564, 1575, 1584, 1595, 1641, 1660, 1782, 1898, 1988,\n",
      "       2016, 2067, 2071, 2081, 2128, 2136, 2232, 2277, 2284, 2290, 2309,\n",
      "       2330, 2411, 2441, 2545, 2555, 2567, 2585, 2723, 2764, 2815, 2840,\n",
      "       2883, 2896, 3024, 3060, 3218, 3238, 3243, 3305, 3333, 3439, 3508,\n",
      "       3541, 3588, 3606, 3688, 3702, 3825, 3867, 3909, 3931, 3959, 3980,\n",
      "       4071, 4126, 4154, 4188, 4209, 4223, 4225, 4351, 4405, 4407, 4456,\n",
      "       4475, 4650, 4704, 4779, 4838, 4847, 4858, 4906, 4952, 5009, 5057],\n",
      "      dtype=int64),)\n"
     ]
    }
   ],
   "source": [
    "##checking for outliers in bmi using iqr\n",
    "q1_bmi = df['bmi'].quantile(0.25)\n",
    "q3_bmi = df['bmi'].quantile(0.75)\n",
    "iqr_bmi = q3_bmi-q1_bmi\n",
    "outliers_bmi = (df['bmi'] < (q1_bmi - 1.5 * iqr_bmi)) |(df['bmi'] > (q3_bmi + 1.5 * iqr_bmi))\n",
    "\n",
    "outliers_bmi_count = 0\n",
    "for i in outliers_bmi:\n",
    "    if(i != False):\n",
    "        outliers_bmi_count += 1\n",
    "print(\"number of outliers found with iqr for bmi is : \",outliers_bmi_count)\n",
    "print(\"\\nIndexes where outliers were detected: \")\n",
    "print(np.where(outliers_bmi != False))\n",
    "\n"
   ]
  },
  {
   "cell_type": "code",
   "execution_count": 236,
   "metadata": {},
   "outputs": [
    {
     "name": "stdout",
     "output_type": "stream",
     "text": [
      "number of outliers found with iqr for glucose is :  627\n",
      "\n",
      "Indexes where outliers were detected: \n",
      "(array([   0,    1,    3,    4,    5,   13,   14,   16,   17,   19,   20,\n",
      "         21,   22,   23,   27,   28,   29,   30,   32,   33,   36,   44,\n",
      "         45,   54,   55,   57,   58,   59,   60,   66,   71,   73,   76,\n",
      "         90,   95,   97,  101,  102,  107,  113,  115,  122,  123,  124,\n",
      "        128,  130,  132,  134,  135,  137,  138,  139,  144,  149,  150,\n",
      "        151,  155,  157,  158,  163,  175,  179,  187,  189,  190,  193,\n",
      "        195,  196,  201,  212,  215,  217,  218,  219,  220,  222,  225,\n",
      "        226,  233,  234,  235,  241,  242,  243,  254,  256,  258,  272,\n",
      "        277,  278,  293,  298,  303,  307,  314,  318,  325,  326,  330,\n",
      "        331,  332,  337,  343,  350,  355,  360,  365,  386,  396,  399,\n",
      "        411,  417,  426,  429,  433,  436,  444,  456,  466,  467,  468,\n",
      "        477,  479,  492,  515,  544,  549,  551,  552,  559,  563,  570,\n",
      "        576,  581,  583,  585,  595,  598,  599,  610,  616,  620,  642,\n",
      "        706,  708,  719,  744,  746,  755,  762,  770,  785,  816,  846,\n",
      "        848,  851,  865,  867,  880,  887,  894,  923,  929,  930,  946,\n",
      "        948,  970,  971, 1011, 1059, 1061, 1067, 1070, 1071, 1092, 1097,\n",
      "       1102, 1104, 1113, 1118, 1131, 1158, 1166, 1173, 1178, 1187, 1189,\n",
      "       1200, 1202, 1207, 1214, 1225, 1228, 1233, 1245, 1250, 1257, 1277,\n",
      "       1282, 1300, 1309, 1319, 1322, 1339, 1343, 1346, 1379, 1382, 1384,\n",
      "       1398, 1411, 1412, 1414, 1428, 1436, 1453, 1457, 1468, 1472, 1474,\n",
      "       1485, 1487, 1497, 1503, 1512, 1526, 1529, 1531, 1533, 1534, 1535,\n",
      "       1540, 1547, 1553, 1588, 1596, 1598, 1607, 1626, 1627, 1628, 1650,\n",
      "       1654, 1655, 1659, 1667, 1675, 1681, 1698, 1704, 1711, 1718, 1723,\n",
      "       1732, 1737, 1756, 1759, 1769, 1778, 1780, 1782, 1795, 1798, 1816,\n",
      "       1820, 1827, 1837, 1840, 1841, 1843, 1853, 1862, 1873, 1880, 1888,\n",
      "       1889, 1892, 1893, 1898, 1905, 1952, 1971, 1981, 1995, 2004, 2018,\n",
      "       2044, 2059, 2067, 2069, 2079, 2081, 2089, 2096, 2102, 2107, 2124,\n",
      "       2126, 2129, 2132, 2135, 2149, 2158, 2161, 2166, 2168, 2169, 2180,\n",
      "       2182, 2185, 2200, 2201, 2203, 2223, 2228, 2240, 2255, 2257, 2273,\n",
      "       2282, 2284, 2290, 2291, 2292, 2293, 2294, 2303, 2307, 2318, 2332,\n",
      "       2336, 2338, 2365, 2374, 2383, 2395, 2418, 2429, 2439, 2453, 2455,\n",
      "       2459, 2462, 2469, 2486, 2493, 2494, 2515, 2520, 2523, 2532, 2540,\n",
      "       2544, 2548, 2553, 2565, 2569, 2578, 2583, 2599, 2600, 2609, 2612,\n",
      "       2624, 2629, 2633, 2637, 2641, 2661, 2675, 2676, 2679, 2682, 2685,\n",
      "       2686, 2690, 2693, 2697, 2699, 2707, 2710, 2734, 2751, 2752, 2757,\n",
      "       2768, 2846, 2848, 2849, 2855, 2866, 2867, 2880, 2890, 2893, 2918,\n",
      "       2928, 2934, 2947, 2957, 2960, 2966, 2981, 2992, 2997, 3005, 3008,\n",
      "       3014, 3017, 3054, 3060, 3069, 3074, 3088, 3130, 3146, 3148, 3150,\n",
      "       3152, 3157, 3161, 3186, 3197, 3198, 3215, 3221, 3224, 3234, 3238,\n",
      "       3243, 3252, 3306, 3318, 3327, 3342, 3350, 3360, 3375, 3376, 3378,\n",
      "       3381, 3387, 3391, 3393, 3406, 3425, 3427, 3439, 3455, 3461, 3462,\n",
      "       3478, 3480, 3489, 3500, 3507, 3510, 3517, 3522, 3536, 3537, 3548,\n",
      "       3564, 3578, 3587, 3594, 3599, 3600, 3606, 3625, 3627, 3630, 3637,\n",
      "       3643, 3658, 3674, 3686, 3688, 3699, 3700, 3718, 3734, 3753, 3756,\n",
      "       3771, 3772, 3779, 3780, 3781, 3788, 3802, 3833, 3882, 3889, 3892,\n",
      "       3905, 3909, 3913, 3925, 3931, 3943, 3956, 3959, 3962, 3964, 3965,\n",
      "       3980, 3982, 3994, 4008, 4022, 4028, 4037, 4046, 4048, 4051, 4054,\n",
      "       4096, 4104, 4123, 4129, 4132, 4164, 4176, 4201, 4207, 4240, 4249,\n",
      "       4261, 4274, 4283, 4286, 4290, 4291, 4304, 4311, 4321, 4324, 4325,\n",
      "       4327, 4329, 4335, 4339, 4344, 4356, 4360, 4366, 4376, 4377, 4390,\n",
      "       4434, 4437, 4446, 4447, 4453, 4457, 4470, 4475, 4497, 4500, 4504,\n",
      "       4505, 4507, 4514, 4515, 4530, 4539, 4560, 4577, 4578, 4582, 4588,\n",
      "       4589, 4598, 4616, 4625, 4627, 4628, 4636, 4654, 4665, 4684, 4696,\n",
      "       4702, 4708, 4711, 4724, 4737, 4738, 4739, 4740, 4750, 4763, 4809,\n",
      "       4816, 4823, 4836, 4855, 4861, 4869, 4883, 4895, 4899, 4909, 4921,\n",
      "       4925, 4941, 4952, 4955, 4983, 4984, 4986, 4987, 4995, 5001, 5006,\n",
      "       5019, 5029, 5034, 5035, 5041, 5048, 5061, 5062, 5063, 5064, 5076],\n",
      "      dtype=int64),)\n"
     ]
    }
   ],
   "source": [
    "##checking for outliers in bmi using iqr\n",
    "q1_glu = df['avg_glucose_level'].quantile(0.25)\n",
    "q3_glu = df['avg_glucose_level'].quantile(0.75)\n",
    "iqr_glu = q3_glu-q1_glu\n",
    "outliers_glu = (df['avg_glucose_level'] < (q1_glu - 1.5 * iqr_glu)) |(df['avg_glucose_level'] > (q3_glu + 1.5 * iqr_glu))\n",
    "outliers_glu_count = 0\n",
    "for i in outliers_glu:\n",
    "    if(i != False):\n",
    "        outliers_glu_count += 1\n",
    "print(\"number of outliers found with iqr for glucose is : \",outliers_glu_count)\n",
    "print(\"\\nIndexes where outliers were detected: \")\n",
    "print(np.where(outliers_glu != False))"
   ]
  },
  {
   "cell_type": "code",
   "execution_count": 237,
   "metadata": {},
   "outputs": [
    {
     "data": {
      "text/html": [
       "<div>\n",
       "<style scoped>\n",
       "    .dataframe tbody tr th:only-of-type {\n",
       "        vertical-align: middle;\n",
       "    }\n",
       "\n",
       "    .dataframe tbody tr th {\n",
       "        vertical-align: top;\n",
       "    }\n",
       "\n",
       "    .dataframe thead th {\n",
       "        text-align: right;\n",
       "    }\n",
       "</style>\n",
       "<table border=\"1\" class=\"dataframe\">\n",
       "  <thead>\n",
       "    <tr style=\"text-align: right;\">\n",
       "      <th></th>\n",
       "      <th>id</th>\n",
       "      <th>hypertension</th>\n",
       "      <th>heart_disease</th>\n",
       "      <th>ever_married</th>\n",
       "      <th>avg_glucose_level</th>\n",
       "      <th>bmi</th>\n",
       "      <th>stroke</th>\n",
       "      <th>bmi_zscore</th>\n",
       "      <th>avg_glucose_level_zscore</th>\n",
       "    </tr>\n",
       "  </thead>\n",
       "  <tbody>\n",
       "    <tr>\n",
       "      <th>count</th>\n",
       "      <td>5110.000000</td>\n",
       "      <td>5110.000000</td>\n",
       "      <td>5110.000000</td>\n",
       "      <td>5110.000000</td>\n",
       "      <td>5110.000000</td>\n",
       "      <td>4909.000000</td>\n",
       "      <td>5110.000000</td>\n",
       "      <td>4.909000e+03</td>\n",
       "      <td>5.110000e+03</td>\n",
       "    </tr>\n",
       "    <tr>\n",
       "      <th>mean</th>\n",
       "      <td>36517.829354</td>\n",
       "      <td>0.097456</td>\n",
       "      <td>0.054012</td>\n",
       "      <td>0.656164</td>\n",
       "      <td>106.147677</td>\n",
       "      <td>28.893237</td>\n",
       "      <td>0.048728</td>\n",
       "      <td>-1.326602e-15</td>\n",
       "      <td>3.603293e-15</td>\n",
       "    </tr>\n",
       "    <tr>\n",
       "      <th>std</th>\n",
       "      <td>21161.721625</td>\n",
       "      <td>0.296607</td>\n",
       "      <td>0.226063</td>\n",
       "      <td>0.475034</td>\n",
       "      <td>45.283560</td>\n",
       "      <td>7.854067</td>\n",
       "      <td>0.215320</td>\n",
       "      <td>1.000102e+00</td>\n",
       "      <td>1.000098e+00</td>\n",
       "    </tr>\n",
       "    <tr>\n",
       "      <th>min</th>\n",
       "      <td>67.000000</td>\n",
       "      <td>0.000000</td>\n",
       "      <td>0.000000</td>\n",
       "      <td>0.000000</td>\n",
       "      <td>55.120000</td>\n",
       "      <td>10.300000</td>\n",
       "      <td>0.000000</td>\n",
       "      <td>-2.367580e+00</td>\n",
       "      <td>-1.126958e+00</td>\n",
       "    </tr>\n",
       "    <tr>\n",
       "      <th>25%</th>\n",
       "      <td>17741.250000</td>\n",
       "      <td>0.000000</td>\n",
       "      <td>0.000000</td>\n",
       "      <td>0.000000</td>\n",
       "      <td>77.245000</td>\n",
       "      <td>23.500000</td>\n",
       "      <td>0.000000</td>\n",
       "      <td>-6.867508e-01</td>\n",
       "      <td>-6.383223e-01</td>\n",
       "    </tr>\n",
       "    <tr>\n",
       "      <th>50%</th>\n",
       "      <td>36932.000000</td>\n",
       "      <td>0.000000</td>\n",
       "      <td>0.000000</td>\n",
       "      <td>1.000000</td>\n",
       "      <td>91.885000</td>\n",
       "      <td>28.100000</td>\n",
       "      <td>0.000000</td>\n",
       "      <td>-1.010073e-01</td>\n",
       "      <td>-3.149945e-01</td>\n",
       "    </tr>\n",
       "    <tr>\n",
       "      <th>75%</th>\n",
       "      <td>54682.000000</td>\n",
       "      <td>0.000000</td>\n",
       "      <td>0.000000</td>\n",
       "      <td>1.000000</td>\n",
       "      <td>114.090000</td>\n",
       "      <td>33.100000</td>\n",
       "      <td>0.000000</td>\n",
       "      <td>5.356705e-01</td>\n",
       "      <td>1.754080e-01</td>\n",
       "    </tr>\n",
       "    <tr>\n",
       "      <th>max</th>\n",
       "      <td>72940.000000</td>\n",
       "      <td>1.000000</td>\n",
       "      <td>1.000000</td>\n",
       "      <td>1.000000</td>\n",
       "      <td>271.740000</td>\n",
       "      <td>97.600000</td>\n",
       "      <td>1.000000</td>\n",
       "      <td>8.748813e+00</td>\n",
       "      <td>3.657145e+00</td>\n",
       "    </tr>\n",
       "  </tbody>\n",
       "</table>\n",
       "</div>"
      ],
      "text/plain": [
       "                 id  hypertension  heart_disease  ever_married  \\\n",
       "count   5110.000000   5110.000000    5110.000000   5110.000000   \n",
       "mean   36517.829354      0.097456       0.054012      0.656164   \n",
       "std    21161.721625      0.296607       0.226063      0.475034   \n",
       "min       67.000000      0.000000       0.000000      0.000000   \n",
       "25%    17741.250000      0.000000       0.000000      0.000000   \n",
       "50%    36932.000000      0.000000       0.000000      1.000000   \n",
       "75%    54682.000000      0.000000       0.000000      1.000000   \n",
       "max    72940.000000      1.000000       1.000000      1.000000   \n",
       "\n",
       "       avg_glucose_level          bmi       stroke    bmi_zscore  \\\n",
       "count        5110.000000  4909.000000  5110.000000  4.909000e+03   \n",
       "mean          106.147677    28.893237     0.048728 -1.326602e-15   \n",
       "std            45.283560     7.854067     0.215320  1.000102e+00   \n",
       "min            55.120000    10.300000     0.000000 -2.367580e+00   \n",
       "25%            77.245000    23.500000     0.000000 -6.867508e-01   \n",
       "50%            91.885000    28.100000     0.000000 -1.010073e-01   \n",
       "75%           114.090000    33.100000     0.000000  5.356705e-01   \n",
       "max           271.740000    97.600000     1.000000  8.748813e+00   \n",
       "\n",
       "       avg_glucose_level_zscore  \n",
       "count              5.110000e+03  \n",
       "mean               3.603293e-15  \n",
       "std                1.000098e+00  \n",
       "min               -1.126958e+00  \n",
       "25%               -6.383223e-01  \n",
       "50%               -3.149945e-01  \n",
       "75%                1.754080e-01  \n",
       "max                3.657145e+00  "
      ]
     },
     "execution_count": 237,
     "metadata": {},
     "output_type": "execute_result"
    }
   ],
   "source": [
    "df.describe()"
   ]
  },
  {
   "cell_type": "code",
   "execution_count": null,
   "metadata": {},
   "outputs": [],
   "source": []
  }
 ],
 "metadata": {
  "kernelspec": {
   "display_name": "Python 3",
   "language": "python",
   "name": "python3"
  },
  "language_info": {
   "codemirror_mode": {
    "name": "ipython",
    "version": 3
   },
   "file_extension": ".py",
   "mimetype": "text/x-python",
   "name": "python",
   "nbconvert_exporter": "python",
   "pygments_lexer": "ipython3",
   "version": "3.8.5"
  }
 },
 "nbformat": 4,
 "nbformat_minor": 4
}
